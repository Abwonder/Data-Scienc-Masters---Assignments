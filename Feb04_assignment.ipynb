{
 "cells": [
  {
   "cell_type": "markdown",
   "id": "c8a49939-d14c-4f57-b7c4-311619ee704f",
   "metadata": {},
   "source": [
    "# February 4, Assignment"
   ]
  },
  {
   "cell_type": "markdown",
   "id": "3d5a50cc-ff9a-4470-8559-ce229a219db5",
   "metadata": {},
   "source": [
    "## Question 1"
   ]
  },
  {
   "cell_type": "code",
   "execution_count": 9,
   "id": "5c349365-2e94-470d-b235-c0ee07ac864b",
   "metadata": {},
   "outputs": [],
   "source": [
    "lst1 = [('Sachin Tendulkar', 34357), ('Ricky Ponting', 27483), ('Jack Kallis', 25534), ('Virat Kohli', 24936)]"
   ]
  },
  {
   "cell_type": "code",
   "execution_count": 12,
   "id": "5f106d4e-796e-4268-b351-8b1a8b6058a8",
   "metadata": {},
   "outputs": [],
   "source": [
    "## lambda function\n",
    "lst1.sort(key=lambda x: x[1])"
   ]
  },
  {
   "cell_type": "code",
   "execution_count": 13,
   "id": "c2908e4a-b3c9-49bf-83e1-0bc9dde5a7ac",
   "metadata": {},
   "outputs": [
    {
     "name": "stdout",
     "output_type": "stream",
     "text": [
      "[('Virat Kohli', 24936), ('Jack Kallis', 25534), ('Ricky Ponting', 27483), ('Sachin Tendulkar', 34357)]\n"
     ]
    }
   ],
   "source": [
    "print(lst1)  ## ascending order"
   ]
  },
  {
   "cell_type": "code",
   "execution_count": 14,
   "id": "66914da7-ad0c-4a8c-8662-a70953cc11bf",
   "metadata": {},
   "outputs": [],
   "source": [
    "lst1.sort(key=lambda x: x[1], reverse=True)  ## descending order!!!"
   ]
  },
  {
   "cell_type": "code",
   "execution_count": 15,
   "id": "946eacb0-3de1-41da-9b70-b5635f2e5cb2",
   "metadata": {},
   "outputs": [
    {
     "name": "stdout",
     "output_type": "stream",
     "text": [
      "[('Sachin Tendulkar', 34357), ('Ricky Ponting', 27483), ('Jack Kallis', 25534), ('Virat Kohli', 24936)]\n"
     ]
    }
   ],
   "source": [
    "print(lst1)"
   ]
  },
  {
   "cell_type": "markdown",
   "id": "b419c49b-dd13-4dc9-86f4-a2e142f72221",
   "metadata": {},
   "source": [
    "## Question 2"
   ]
  },
  {
   "cell_type": "code",
   "execution_count": 17,
   "id": "79e825fd-d093-46c4-ad5c-bd1161913064",
   "metadata": {},
   "outputs": [
    {
     "data": {
      "text/plain": [
       "<map at 0x7ff5d8700670>"
      ]
     },
     "execution_count": 17,
     "metadata": {},
     "output_type": "execute_result"
    }
   ],
   "source": [
    "## Question 2\n",
    "num_list = [1, 2, 3, 4, 5, 6, 7, 8, 9, 10]\n",
    "ab_sq = lambda x: x**2  ## function to get square of all element in the list\n",
    "map(ab_sq, num_list)  ## this is an object needs changing (Typecasting)"
   ]
  },
  {
   "cell_type": "code",
   "execution_count": 21,
   "id": "f3e0805b-4818-4507-af3f-0ed434713891",
   "metadata": {},
   "outputs": [],
   "source": [
    "sq_list = list(map(ab_sq, num_list))  ## it applies the function on all the elements of the list"
   ]
  },
  {
   "cell_type": "code",
   "execution_count": 22,
   "id": "947ff80e-e1ba-4b61-9aa6-6a0c3c59924a",
   "metadata": {},
   "outputs": [
    {
     "name": "stdout",
     "output_type": "stream",
     "text": [
      "[1, 4, 9, 16, 25, 36, 49, 64, 81, 100]\n"
     ]
    }
   ],
   "source": [
    "print(sq_list)"
   ]
  },
  {
   "cell_type": "markdown",
   "id": "a023adb1-820b-430b-9154-8fdddc3b5004",
   "metadata": {},
   "source": [
    "## Question 3\n",
    "Q3. Write a python program to convert the given list of integers into a tuple of strings. Use map and\n",
    "lambda functions\n",
    "Given String: [1, 2, 3, 4, 5, 6, 7, 8, 9, 10]\n",
    "Expected output: ('1', '2', '3', '4', '5', '6', '7', '8', '9', '10')"
   ]
  },
  {
   "cell_type": "code",
   "execution_count": 1,
   "id": "8d8b9766-3c9f-40d2-ab50-babede01a318",
   "metadata": {},
   "outputs": [],
   "source": [
    "### \n",
    "lst_num =  [1, 2, 3, 4, 5, 6, 7, 8, 9, 10]\n",
    "# expected ('1', '2', '3', '4', '5', '6', '7', '8', '9', '10')\n",
    "str_convert = lambda x: str(x)\n",
    "tup_sq_list = tuple(map(str_convert, lst_num))"
   ]
  },
  {
   "cell_type": "code",
   "execution_count": 2,
   "id": "7fc586c8-0aff-4d00-baca-4c925d4b1a9a",
   "metadata": {},
   "outputs": [
    {
     "name": "stdout",
     "output_type": "stream",
     "text": [
      "('1', '2', '3', '4', '5', '6', '7', '8', '9', '10')\n"
     ]
    }
   ],
   "source": [
    "print(tup_sq_list)"
   ]
  },
  {
   "cell_type": "markdown",
   "id": "472e796c-2c95-4f1e-a923-d8c53834a51f",
   "metadata": {},
   "source": [
    "## Question 4\n",
    "Q4. Write a python program using reduce function to compute the product of a list containing numbers\n",
    "from 1 to 25."
   ]
  },
  {
   "cell_type": "code",
   "execution_count": 6,
   "id": "6c638f03-e82e-4dda-977f-69503f04c4da",
   "metadata": {},
   "outputs": [
    {
     "data": {
      "text/plain": [
       "15511210043330985984000000"
      ]
     },
     "execution_count": 6,
     "metadata": {},
     "output_type": "execute_result"
    }
   ],
   "source": [
    "## Generate the 1-25 list\n",
    "gen_list = []\n",
    "for i in range(1,26):\n",
    "    gen_list.append(i)\n",
    "# print(gen_list)\n",
    "\n",
    "## import the library for reduce\n",
    "from functools import reduce \n",
    "lam_prod = lambda z,y: z*y\n",
    "reduce(lam_prod, gen_list)"
   ]
  },
  {
   "cell_type": "code",
   "execution_count": 9,
   "id": "9df626a8-b3ba-4e12-b96f-15078590ed7e",
   "metadata": {},
   "outputs": [
    {
     "name": "stdout",
     "output_type": "stream",
     "text": [
      "24\n"
     ]
    }
   ],
   "source": [
    "## checking with a smaller code to know it correct\n",
    "man = [1,2,3,4]\n",
    "print(reduce(lam_prod, man))"
   ]
  },
  {
   "cell_type": "markdown",
   "id": "835f4b04-bb6b-4054-863d-37ac4096ec72",
   "metadata": {},
   "source": [
    "##  Question 5\n",
    "\n",
    "Q5. Write a python program to filter the numbers in a given list that are divisible by 2 and 3 using the\n",
    "filter function.\n",
    "\n",
    "[2, 3, 6, 9, 27, 60, 90, 120, 55, 46]"
   ]
  },
  {
   "cell_type": "code",
   "execution_count": 10,
   "id": "2d7cd05c-df4b-4c61-8600-4a78f48b1d4b",
   "metadata": {},
   "outputs": [],
   "source": [
    "use_list = [2, 3, 6, 9, 27, 60, 90, 120, 55, 46]"
   ]
  },
  {
   "cell_type": "code",
   "execution_count": 12,
   "id": "e1e51362-e9c9-4fa1-9549-e93ab01389aa",
   "metadata": {},
   "outputs": [
    {
     "data": {
      "text/plain": [
       "[6, 60, 90, 120]"
      ]
     },
     "execution_count": 12,
     "metadata": {},
     "output_type": "execute_result"
    }
   ],
   "source": [
    "list(filter(lambda z: z%2==0 and z%3==0, use_list))  ## produce number divisible by 2 and 3"
   ]
  },
  {
   "cell_type": "markdown",
   "id": "f4ad9837-3a8d-4f02-b360-56e7499a96c1",
   "metadata": {
    "tags": []
   },
   "source": [
    "## Question 5\n",
    "\n",
    "Q6. Write a python program to find palindromes in the given list of strings using lambda and filter\n",
    "function.\n",
    "\n",
    "['python', 'php', 'aba', 'radar', 'level']"
   ]
  },
  {
   "cell_type": "code",
   "execution_count": 17,
   "id": "9f19c2ef-8da0-4f32-a4b3-d90c3fa420d0",
   "metadata": {},
   "outputs": [],
   "source": [
    "## mean --a word, phrase, or sequence that reads the same backwards as forwards, e.g. madam or nurses run.\n",
    "cont_palindromes = ['python', 'php', 'aba', 'radar', 'level']\n",
    "lamb_funct = lambda x: x[::-1] == x[::1]\n",
    "palindromes_list = list(filter(lamb_funct, cont_palindromes))"
   ]
  },
  {
   "cell_type": "code",
   "execution_count": 18,
   "id": "1c9f5a86-36c4-4a28-8830-d932cd6fa0b4",
   "metadata": {},
   "outputs": [
    {
     "name": "stdout",
     "output_type": "stream",
     "text": [
      "['php', 'aba', 'radar', 'level']\n"
     ]
    }
   ],
   "source": [
    "print(palindromes_list)"
   ]
  },
  {
   "cell_type": "code",
   "execution_count": null,
   "id": "d4b41d09-be2a-45a0-8755-858a3f1c84a4",
   "metadata": {},
   "outputs": [],
   "source": [
    "## The end ##"
   ]
  },
  {
   "cell_type": "code",
   "execution_count": null,
   "id": "610dade9-3d4b-424e-8bf9-1784fc7658cf",
   "metadata": {},
   "outputs": [],
   "source": []
  }
 ],
 "metadata": {
  "kernelspec": {
   "display_name": "Python 3 (ipykernel)",
   "language": "python",
   "name": "python3"
  },
  "language_info": {
   "codemirror_mode": {
    "name": "ipython",
    "version": 3
   },
   "file_extension": ".py",
   "mimetype": "text/x-python",
   "name": "python",
   "nbconvert_exporter": "python",
   "pygments_lexer": "ipython3",
   "version": "3.10.8"
  }
 },
 "nbformat": 4,
 "nbformat_minor": 5
}
