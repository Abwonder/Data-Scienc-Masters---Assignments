{
 "cells": [
  {
   "cell_type": "markdown",
   "id": "4b92ea2f-da3a-414a-a4bb-66e8854dd62f",
   "metadata": {},
   "source": [
    "## Question 1"
   ]
  },
  {
   "cell_type": "markdown",
   "id": "26177a37-2e6a-4da5-b4f0-b83b722866a7",
   "metadata": {},
   "source": [
    "Def is used to create function in python"
   ]
  },
  {
   "cell_type": "code",
   "execution_count": 6,
   "id": "60e03ce2-f95b-4591-b39d-d71b498b2b4c",
   "metadata": {},
   "outputs": [],
   "source": [
    "## creating function that returns odd numbers between 1 and 25\n",
    "\n",
    "def odd_num():\n",
    "    odd_list = []\n",
    "    for numb in range(2, 26):\n",
    "        if numb%2 != 0:\n",
    "            odd_list.append(numb)\n",
    "    return odd_list"
   ]
  },
  {
   "cell_type": "code",
   "execution_count": 7,
   "id": "d985392c-312f-4b95-826a-b23d082bfbe3",
   "metadata": {},
   "outputs": [
    {
     "data": {
      "text/plain": [
       "[3, 5, 7, 9, 11, 13, 15, 17, 19, 21, 23, 25]"
      ]
     },
     "execution_count": 7,
     "metadata": {},
     "output_type": "execute_result"
    }
   ],
   "source": [
    "odd_num()  ## list of odd number between 1 and 25"
   ]
  },
  {
   "cell_type": "markdown",
   "id": "124aaf5e-343d-4ead-9cd0-26d432c2b42e",
   "metadata": {},
   "source": [
    "## Question 2"
   ]
  },
  {
   "cell_type": "markdown",
   "id": "ed7db2f7-871e-4c02-8be2-3eea02660e9b",
   "metadata": {},
   "source": [
    "*args and **kwargs are used in some function because *args allows multiple unspecified numbers of argument without error and output them as tuple while **kwargs allows function to accept keys and values as input and output them as dictionary.\n",
    "\n"
   ]
  },
  {
   "cell_type": "code",
   "execution_count": 8,
   "id": "06d55d59-f7ad-4dd7-b06c-1323d15d01ae",
   "metadata": {},
   "outputs": [],
   "source": [
    "## example for *args\n",
    "\n",
    "def test1(*args):\n",
    "    return args\n",
    "    "
   ]
  },
  {
   "cell_type": "code",
   "execution_count": 9,
   "id": "3c9108f8-6d15-40c7-8568-306a3685b414",
   "metadata": {},
   "outputs": [
    {
     "data": {
      "text/plain": [
       "(1, 2, 3, 4, 5, 'Abioye', 'greatdayahead')"
      ]
     },
     "execution_count": 9,
     "metadata": {},
     "output_type": "execute_result"
    }
   ],
   "source": [
    "test1(1,2,3,4,5,\"Abioye\", \"greatdayahead\")"
   ]
  },
  {
   "cell_type": "code",
   "execution_count": 10,
   "id": "782f14cb-0a45-4099-b729-fce50fe42c63",
   "metadata": {},
   "outputs": [
    {
     "data": {
      "text/plain": [
       "tuple"
      ]
     },
     "execution_count": 10,
     "metadata": {},
     "output_type": "execute_result"
    }
   ],
   "source": [
    "type(test1(1,2,3,4,5,\"Abioye\", \"greatdayahead\"))  ## what is producess"
   ]
  },
  {
   "cell_type": "code",
   "execution_count": 11,
   "id": "663844cf-166f-442e-934f-8e000c21976e",
   "metadata": {},
   "outputs": [],
   "source": [
    "## example for *kwargs\n",
    "\n",
    "def test2(**abioye): ## the place holder can be anything--- proven\n",
    "    return abioye"
   ]
  },
  {
   "cell_type": "code",
   "execution_count": 12,
   "id": "fa203707-fce4-43b7-9149-e6b78921bad0",
   "metadata": {},
   "outputs": [
    {
     "data": {
      "text/plain": [
       "{'a': 'abioye', 'b': 3, 'bestplayers': ['Ronaldo', 'Messi', 'Abioye']}"
      ]
     },
     "execution_count": 12,
     "metadata": {},
     "output_type": "execute_result"
    }
   ],
   "source": [
    "test2(a= \"abioye\", b=3, bestplayers=[\"Ronaldo\", \"Messi\", \"Abioye\"])"
   ]
  },
  {
   "cell_type": "code",
   "execution_count": 13,
   "id": "bf9cb288-f0cd-4790-a257-a3cab81a1f5e",
   "metadata": {},
   "outputs": [
    {
     "data": {
      "text/plain": [
       "dict"
      ]
     },
     "execution_count": 13,
     "metadata": {},
     "output_type": "execute_result"
    }
   ],
   "source": [
    "type(test2(a= \"abioye\", b=3, bestplayers=[\"Ronaldo\", \"Messi\", \"Abioye\"]))  ## output is "
   ]
  },
  {
   "cell_type": "markdown",
   "id": "5f882102-2542-430e-9758-09034e1b3b89",
   "metadata": {},
   "source": [
    "## Question 3"
   ]
  },
  {
   "cell_type": "markdown",
   "id": "9c466dff-2d0d-4887-8e3a-09c4b86c5364",
   "metadata": {},
   "source": [
    "Iterator in python is an object that contain countable numbers of elements that can be iterated upon in a sequential process, thus support traversing through all the element of the container and output a single result at every instance of the code.\n",
    "\n",
    "\n",
    "a. __iter__ is the method used to initialise iterator object\n",
    "b. __next__ is the method used to step into the iterator object and output the result one after the other"
   ]
  },
  {
   "cell_type": "code",
   "execution_count": 16,
   "id": "860cfc20-7b29-408f-a441-1218dd3b544a",
   "metadata": {},
   "outputs": [],
   "source": [
    "## Application\n",
    "items = [2,4,6,8,10,12,14,16,18,20]\n",
    "iter_items = iter(items)"
   ]
  },
  {
   "cell_type": "code",
   "execution_count": 17,
   "id": "bbedba4f-a7ca-4fa0-88aa-bf2c50428688",
   "metadata": {},
   "outputs": [
    {
     "data": {
      "text/plain": [
       "2"
      ]
     },
     "execution_count": 17,
     "metadata": {},
     "output_type": "execute_result"
    }
   ],
   "source": [
    "next(iter_items)"
   ]
  },
  {
   "cell_type": "code",
   "execution_count": 18,
   "id": "64eec856-49aa-433f-be3c-e97819a7f37f",
   "metadata": {},
   "outputs": [
    {
     "data": {
      "text/plain": [
       "4"
      ]
     },
     "execution_count": 18,
     "metadata": {},
     "output_type": "execute_result"
    }
   ],
   "source": [
    "next(iter_items)"
   ]
  },
  {
   "cell_type": "code",
   "execution_count": 19,
   "id": "cd87bba1-f9db-4568-97fb-965bbdc8381f",
   "metadata": {},
   "outputs": [
    {
     "data": {
      "text/plain": [
       "6"
      ]
     },
     "execution_count": 19,
     "metadata": {},
     "output_type": "execute_result"
    }
   ],
   "source": [
    "next(iter_items)"
   ]
  },
  {
   "cell_type": "code",
   "execution_count": 20,
   "id": "7fa046a8-8f1a-4a86-83ed-7827b789c64a",
   "metadata": {},
   "outputs": [
    {
     "data": {
      "text/plain": [
       "8"
      ]
     },
     "execution_count": 20,
     "metadata": {},
     "output_type": "execute_result"
    }
   ],
   "source": [
    "next(iter_items)"
   ]
  },
  {
   "cell_type": "code",
   "execution_count": 21,
   "id": "a089f873-8a14-4055-9181-6979fa5a9dd2",
   "metadata": {},
   "outputs": [
    {
     "data": {
      "text/plain": [
       "10"
      ]
     },
     "execution_count": 21,
     "metadata": {},
     "output_type": "execute_result"
    }
   ],
   "source": [
    "next(iter_items)"
   ]
  },
  {
   "cell_type": "code",
   "execution_count": 22,
   "id": "55e56ea7-922d-4856-9087-e1f2a6b7ad2f",
   "metadata": {},
   "outputs": [],
   "source": [
    "## Application\n",
    "items = [2,4,6,8,10,12,14,16,18,20]\n",
    "iter_items = iter(items)"
   ]
  },
  {
   "cell_type": "code",
   "execution_count": 23,
   "id": "6db06172-30ab-4d5a-bbd4-252151e6fa9b",
   "metadata": {},
   "outputs": [
    {
     "name": "stdout",
     "output_type": "stream",
     "text": [
      "2\n",
      "4\n",
      "6\n",
      "8\n",
      "10\n"
     ]
    }
   ],
   "source": [
    "## using for loop to demonstrate __next__\n",
    "## another way to do this!!!\n",
    "for i in range(5):\n",
    "    print(next(iter_items))"
   ]
  },
  {
   "cell_type": "markdown",
   "id": "93e06f91-f3d2-406b-9383-80dc3442460e",
   "metadata": {},
   "source": [
    "\n",
    "## Question 4"
   ]
  },
  {
   "cell_type": "markdown",
   "id": "42217d75-fd8b-4e73-a79a-49a2df7c70da",
   "metadata": {},
   "source": [
    "* Generator function in python returns an iterator object that produce sequence of number that when iterated over and it is the most efficient way to creat large sequence of numbers without saving them. \n",
    "* Yield is the method use in generator used to output each result of each instance of the code operation iteration, this method returns generator object instead of values.\n",
    "\n",
    "Range function is an example of generator function"
   ]
  },
  {
   "cell_type": "code",
   "execution_count": 37,
   "id": "eee3d022-820d-4b4f-8223-3e6f10adda9e",
   "metadata": {},
   "outputs": [],
   "source": [
    "## creating a generator function\n",
    "def natural_number(n):\n",
    "    a = 0\n",
    "    for i in range(n):\n",
    "        yield a\n",
    "        a += 1"
   ]
  },
  {
   "cell_type": "code",
   "execution_count": 38,
   "id": "fb84ad63-7fd1-4dbc-83be-b154f81e3d05",
   "metadata": {},
   "outputs": [
    {
     "name": "stdout",
     "output_type": "stream",
     "text": [
      "0\n",
      "1\n",
      "2\n",
      "3\n",
      "4\n",
      "5\n",
      "6\n",
      "7\n",
      "8\n",
      "9\n"
     ]
    }
   ],
   "source": [
    "for i in natural_number(10): ## just created generator function same as range\n",
    "    print(i)"
   ]
  },
  {
   "cell_type": "markdown",
   "id": "ed85fa8c-e53e-45f2-b4a4-e1e41ffe3bc8",
   "metadata": {},
   "source": [
    "## Question 5"
   ]
  },
  {
   "cell_type": "code",
   "execution_count": 55,
   "id": "f5bee27b-61d4-4be9-b5bc-b174ca4a0744",
   "metadata": {},
   "outputs": [],
   "source": [
    "## creating function for prime numbeer\n",
    "def prime_num():\n",
    "    n = 1000\n",
    "    for i in range(2, n+1):\n",
    "        if i > 2:\n",
    "            for j in range(2, i):\n",
    "                if i%j == 0:\n",
    "                    break\n",
    "            else:\n",
    "                yield i\n",
    "        else:\n",
    "            yield i"
   ]
  },
  {
   "cell_type": "code",
   "execution_count": 56,
   "id": "f0d9de1c-2d79-4f09-b233-7f1d6be3431a",
   "metadata": {},
   "outputs": [
    {
     "name": "stdout",
     "output_type": "stream",
     "text": [
      "2\n",
      "3\n",
      "5\n",
      "7\n",
      "11\n",
      "13\n",
      "17\n",
      "19\n",
      "23\n",
      "29\n",
      "31\n",
      "37\n",
      "41\n",
      "43\n",
      "47\n",
      "53\n",
      "59\n",
      "61\n",
      "67\n",
      "71\n"
     ]
    }
   ],
   "source": [
    "itera = iter(prime_num())  ## applied iterator on the generator function that already created prime between 1000\n",
    "for a in range(20):\n",
    "    print(next(itera))"
   ]
  },
  {
   "cell_type": "code",
   "execution_count": null,
   "id": "25ce9215-7312-4140-8c78-91a12865cdf9",
   "metadata": {},
   "outputs": [],
   "source": []
  }
 ],
 "metadata": {
  "kernelspec": {
   "display_name": "Python 3 (ipykernel)",
   "language": "python",
   "name": "python3"
  },
  "language_info": {
   "codemirror_mode": {
    "name": "ipython",
    "version": 3
   },
   "file_extension": ".py",
   "mimetype": "text/x-python",
   "name": "python",
   "nbconvert_exporter": "python",
   "pygments_lexer": "ipython3",
   "version": "3.10.8"
  }
 },
 "nbformat": 4,
 "nbformat_minor": 5
}
