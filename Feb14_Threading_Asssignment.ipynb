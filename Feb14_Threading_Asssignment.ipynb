{
 "cells": [
  {
   "cell_type": "markdown",
   "id": "c56831b7",
   "metadata": {},
   "source": [
    "##  Multithreading\n",
    "### Assignment Questions"
   ]
  },
  {
   "cell_type": "markdown",
   "id": "343a27da",
   "metadata": {},
   "source": [
    "Q1. What is multithreading in python? hy is it used? Name the module used to handle threads in python"
   ]
  },
  {
   "cell_type": "markdown",
   "id": "4548b68c",
   "metadata": {},
   "source": [
    "Multithreading is the process by which a program in python creates multiple compartment/threads within a core with execution cycling among them so that long program don't affect others from running or waiting till a program is finished before they execute too. Thus, it is a way of achieving multitasking in python programming language\n",
    "\n",
    "Threading module used to handle threading."
   ]
  },
  {
   "cell_type": "markdown",
   "id": "91a25a70",
   "metadata": {},
   "source": [
    "### Question 2"
   ]
  },
  {
   "cell_type": "markdown",
   "id": "e45bc6b5",
   "metadata": {},
   "source": [
    "Q2. Why threading module used? rite the use of the following functions: \n",
    "1. activeCount()\n",
    "2. currentThread()\n",
    "3. enumerate()"
   ]
  },
  {
   "cell_type": "markdown",
   "id": "45e70780",
   "metadata": {},
   "source": [
    "Threading module is used for creating, controlling and managing threads in python\n",
    "\n",
    "1. activeCount() ==> threading method that returns the number of thread objects that are active\n",
    "2. currentThread ==> threading method that returns the number of thread objects in the caller's thread contro\n",
    "3. enumerate() ==> threading method that returns the list of thread object that are currently active."
   ]
  },
  {
   "cell_type": "markdown",
   "id": "633905ba",
   "metadata": {},
   "source": [
    "### Question 3"
   ]
  },
  {
   "cell_type": "markdown",
   "id": "38686677",
   "metadata": {},
   "source": [
    "Q3. Explain the following functions:\n",
    "\n",
    "1. run()\n",
    "2. start()\n",
    "3. join()\n",
    "4. isAlive()\n",
    "\n",
    "run() - this method is the entry point for a thread.\n",
    "start() - this method starts a thread by calling the run method.\n",
    "join() - this method initiate waiting for threads to terminate.\n",
    "isAlive() -  this method checks whether a thread is still executing."
   ]
  },
  {
   "cell_type": "markdown",
   "id": "c60a03ce",
   "metadata": {},
   "source": [
    "### Question 4"
   ]
  },
  {
   "cell_type": "markdown",
   "id": "76f38ec3",
   "metadata": {},
   "source": [
    "Q4. rite a python program to create two threads. Thread one must print the list of squares and thread\n",
    "two must print the list of cubes"
   ]
  },
  {
   "cell_type": "code",
   "execution_count": 13,
   "id": "bb85f057",
   "metadata": {},
   "outputs": [],
   "source": [
    "## define function\n",
    "import threading\n",
    "\n",
    "def creatlist(x):\n",
    "    lst = []\n",
    "    for i in range(1, 5):\n",
    "        lst.append(i**x)  ### square value of i\n",
    "    print(lst)\n",
    "# creatlist(3) \n",
    "\n",
    "thread1 = [threading.Thread(target= creatlist, args=(i,)) for i in [2,3]]\n",
    "\n",
    "   \n"
   ]
  },
  {
   "cell_type": "code",
   "execution_count": 14,
   "id": "24e6ff37",
   "metadata": {},
   "outputs": [
    {
     "data": {
      "text/plain": [
       "[<Thread(Thread-5, initial)>, <Thread(Thread-6, initial)>]"
      ]
     },
     "execution_count": 14,
     "metadata": {},
     "output_type": "execute_result"
    }
   ],
   "source": [
    "thread1"
   ]
  },
  {
   "cell_type": "code",
   "execution_count": 15,
   "id": "3bc111e5",
   "metadata": {},
   "outputs": [
    {
     "name": "stdout",
     "output_type": "stream",
     "text": [
      "[1, 4, 9, 16]\n",
      "[1, 8, 27, 64]\n"
     ]
    }
   ],
   "source": [
    "##printing square and cubes list\n",
    "for t in thread1:\n",
    "    t.start()"
   ]
  },
  {
   "cell_type": "markdown",
   "id": "03c60e3e",
   "metadata": {},
   "source": [
    "### Questions 5"
   ]
  },
  {
   "cell_type": "markdown",
   "id": "634a7c1a",
   "metadata": {},
   "source": [
    "Q5. State advantages and disadvantages of multithreading.\n",
    "Advantages\n",
    "a. Better CPU usage\n",
    "b. Improve processing performance\n",
    "c. Improves GUI responsiveness\n",
    "d. Better use of cache storage by utilization of resources\n",
    "e. Decrease cost of maintenance\n",
    "\n",
    "Disadvantages\n",
    "a. complex debugging and testing processes\n",
    "b. Increase difficulty level in writing program\n",
    "c. Unpredictable results\n",
    "d. Overhead switching of context\n"
   ]
  },
  {
   "cell_type": "markdown",
   "id": "80607c0e",
   "metadata": {},
   "source": [
    "### Question 6"
   ]
  },
  {
   "cell_type": "markdown",
   "id": "27579aa4",
   "metadata": {},
   "source": [
    "Q6. Explain deadlocks and race conditions.\n",
    "\n",
    "Deadlock occurs when two programs wait indefinitely for resource being utilised by other thread.\n",
    "\n",
    "Race condition occur when two threads interact in a negatve (buggy) way depending on the exact order that their different instructions are executed. It connote two programs competing for excution concurrently."
   ]
  },
  {
   "cell_type": "code",
   "execution_count": null,
   "id": "0cf116ae",
   "metadata": {},
   "outputs": [],
   "source": []
  }
 ],
 "metadata": {
  "kernelspec": {
   "display_name": "Python 3 (ipykernel)",
   "language": "python",
   "name": "python3"
  },
  "language_info": {
   "codemirror_mode": {
    "name": "ipython",
    "version": 3
   },
   "file_extension": ".py",
   "mimetype": "text/x-python",
   "name": "python",
   "nbconvert_exporter": "python",
   "pygments_lexer": "ipython3",
   "version": "3.9.12"
  }
 },
 "nbformat": 4,
 "nbformat_minor": 5
}
