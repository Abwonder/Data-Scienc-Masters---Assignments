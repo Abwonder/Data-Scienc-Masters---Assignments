{
 "cells": [
  {
   "cell_type": "markdown",
   "id": "ddf3205e-f299-4dd3-bdda-c286e2ae991e",
   "metadata": {},
   "source": [
    "## Assignment FEB_5 -- OOPs"
   ]
  },
  {
   "cell_type": "markdown",
   "id": "7a515a63-0d31-4a55-931f-7ef86da7dc3a",
   "metadata": {},
   "source": [
    "### Question 1\n",
    "Q1. Explain Class and Object with respect to Object-Oriented Programming. Give a suitable example.\n"
   ]
  },
  {
   "cell_type": "markdown",
   "id": "84d88711-96ab-47f7-b581-d8944b3085b4",
   "metadata": {},
   "source": [
    "Class in python is a template used for creating object and can not function independently without having defined objects.More so, class is a constuct for OOPS in python\n",
    "\n",
    "Object are called the instance of class which is created using the construct of the class such as __init__ and object holds variable with associated behaviours."
   ]
  },
  {
   "cell_type": "code",
   "execution_count": 1,
   "id": "174b26cd-e378-4eb0-ada1-5a788ae3b17c",
   "metadata": {},
   "outputs": [],
   "source": [
    "## simple explanation without using\n",
    "class num:\n",
    "    n = 90 ## define variable\n",
    "    def add(abioye): #Define object with a pointer -- abioye\n",
    "        return abioye.n*2  ##operation to output with method add"
   ]
  },
  {
   "cell_type": "code",
   "execution_count": 2,
   "id": "74ece4ce-259d-4aa8-b406-fabef46e9b32",
   "metadata": {},
   "outputs": [],
   "source": [
    "## class place holder\n",
    "ass_class = num()"
   ]
  },
  {
   "cell_type": "code",
   "execution_count": 3,
   "id": "e2be3d51-5ab0-464a-91c0-31f083c9de04",
   "metadata": {},
   "outputs": [
    {
     "data": {
      "text/plain": [
       "90"
      ]
     },
     "execution_count": 3,
     "metadata": {},
     "output_type": "execute_result"
    }
   ],
   "source": [
    "ass_class.n"
   ]
  },
  {
   "cell_type": "code",
   "execution_count": 4,
   "id": "1efc651d-9601-42db-9047-9a922cd25b4d",
   "metadata": {},
   "outputs": [
    {
     "data": {
      "text/plain": [
       "180"
      ]
     },
     "execution_count": 4,
     "metadata": {},
     "output_type": "execute_result"
    }
   ],
   "source": [
    "ass_class.add()"
   ]
  },
  {
   "cell_type": "code",
   "execution_count": 5,
   "id": "59bda3e8-b68f-40ce-9d43-c34cdf0e39b2",
   "metadata": {},
   "outputs": [],
   "source": [
    "## Example\n",
    "\n",
    "class family:   ## declaring class\n",
    "    def __init__(self, father, mother, son):\n",
    "        self.daddy = father\n",
    "        self.mum = mother\n",
    "        self.child = son\n",
    "        \n",
    "    def check_fam(self):\n",
    "        return self.daddy, self.mum, self.child  "
   ]
  },
  {
   "cell_type": "code",
   "execution_count": 6,
   "id": "cae6533e-699f-4469-b3e2-001e1d707c84",
   "metadata": {},
   "outputs": [],
   "source": [
    "on_check = family(\"Ade\", \"Adijah\", \"monsur\")  ## creating place older for the class"
   ]
  },
  {
   "cell_type": "code",
   "execution_count": 7,
   "id": "d560dd31-908b-45e8-a59f-702234b503d1",
   "metadata": {},
   "outputs": [
    {
     "data": {
      "text/plain": [
       "('Ade', 'Adijah', 'monsur')"
      ]
     },
     "execution_count": 7,
     "metadata": {},
     "output_type": "execute_result"
    }
   ],
   "source": [
    "on_check.daddy, on_check.mum, on_check.child  ## calling individual element of the object"
   ]
  },
  {
   "cell_type": "code",
   "execution_count": 8,
   "id": "d3c87059-bce2-4df8-9e62-a566a71eba7c",
   "metadata": {},
   "outputs": [
    {
     "data": {
      "text/plain": [
       "tuple"
      ]
     },
     "execution_count": 8,
     "metadata": {},
     "output_type": "execute_result"
    }
   ],
   "source": [
    "type((on_check.daddy, on_check.mum, on_check.child))  ## just checking data type base on how I printed it out"
   ]
  },
  {
   "cell_type": "code",
   "execution_count": 9,
   "id": "bc2c8b2a-9253-4c2c-b78e-d92a1c7fd8ee",
   "metadata": {},
   "outputs": [
    {
     "data": {
      "text/plain": [
       "('Ade', 'Adijah', 'monsur')"
      ]
     },
     "execution_count": 9,
     "metadata": {},
     "output_type": "execute_result"
    }
   ],
   "source": [
    "## to call the function defined\n",
    "on_check.check_fam()"
   ]
  },
  {
   "cell_type": "markdown",
   "id": "1f1e7b2f-d33c-4aae-8a6b-db8bb6606f27",
   "metadata": {},
   "source": [
    "### Question 2"
   ]
  },
  {
   "cell_type": "markdown",
   "id": "a6083454-e141-4988-ada1-1ef13dcd6530",
   "metadata": {},
   "source": [
    "Below are the four pillars of oops.\n",
    "\n",
    "1. Inheritance\n",
    "2. Polymorphism\n",
    "3. Encapsulation\n",
    "4. Abstraction\n"
   ]
  },
  {
   "cell_type": "markdown",
   "id": "2f87b2bf-2af4-40f2-84bc-9d9258e0a361",
   "metadata": {},
   "source": [
    "### Question 3\n",
    "Q3. Explain why the __init__() function is used. Give a suitable example."
   ]
  },
  {
   "cell_type": "markdown",
   "id": "e059b1cb-6306-445d-b21e-2fe4c6193d79",
   "metadata": {},
   "source": [
    "__init__() is used to instruct class to apply the first argument define within object as pointer and assing other entry as its attribute and it is called every time to create new object within a def with the pointer.\n",
    "\n",
    "e.g   __init__(self,)  ## self become the object with other containing values as its attribute that can always be assess by calling self, however the any variable can be use to replace self and it will work."
   ]
  },
  {
   "cell_type": "markdown",
   "id": "28450866-1b5d-4555-8e98-a9f674f5f331",
   "metadata": {},
   "source": [
    "### Question 4"
   ]
  },
  {
   "cell_type": "markdown",
   "id": "9c337b6c-54b5-4dde-b4c1-be2dd208f216",
   "metadata": {},
   "source": [
    "Q4. Why self is used in OOPs?\n",
    "\n",
    "Self denote instance of a class method which function call upon when using the class method instance. it is the conventional naming method user can choose to use another name.\n",
    "\n",
    "it is use as a pointer to class OOPS"
   ]
  },
  {
   "cell_type": "markdown",
   "id": "6217dac2-6295-4ccc-9386-1b9939541ad2",
   "metadata": {},
   "source": [
    "### Question 5"
   ]
  },
  {
   "cell_type": "markdown",
   "id": "00498239-2f63-42e1-9f2c-beee44e92014",
   "metadata": {},
   "source": [
    "Q5. What is inheritance? Give an example for each type of inheritance.\n",
    "\n",
    "Inheritance is to transfering the properties of a parent class to a child class. It can easily be likened to real life family relationship which help code efficiency and reusability.\n",
    "\n",
    "Differen inheritance is illustrated below:\n",
    "1. single inheritance\n",
    "2. multiple inheritance\n",
    "3. mulitilevel inheritance\n",
    "4. hierachical inheritance\n",
    "5. hybrid inheritance"
   ]
  },
  {
   "cell_type": "code",
   "execution_count": 10,
   "id": "6c0b91d8-5a88-4dae-9fda-eeb2d0cbeb5e",
   "metadata": {},
   "outputs": [],
   "source": [
    "# Single inheritance\n",
    "class Parent:\n",
    "    def __init__(self , fname, fage):\n",
    "        self.firstname = fname\n",
    "        self.age = fage\n",
    "    def view(self):\n",
    "        print(self.firstname , self.age)\n",
    "class Child(Parent):\n",
    "    def ch_func(self):\n",
    "        print(f\"single inheritance\")\n",
    "        "
   ]
  },
  {
   "cell_type": "code",
   "execution_count": 11,
   "id": "48deaee5-fbb3-49cc-b24c-2b98a6041caf",
   "metadata": {},
   "outputs": [],
   "source": [
    "inh = Child(\"Olushola\", 65)"
   ]
  },
  {
   "cell_type": "code",
   "execution_count": 12,
   "id": "cc0b9646-ca46-4cb3-99f0-8bfa667125cf",
   "metadata": {},
   "outputs": [
    {
     "name": "stdout",
     "output_type": "stream",
     "text": [
      "Olushola 65\n"
     ]
    }
   ],
   "source": [
    "inh.view() ## diplaying parent funtion"
   ]
  },
  {
   "cell_type": "code",
   "execution_count": 13,
   "id": "ca23d516-1227-484a-9713-d0b9282af983",
   "metadata": {},
   "outputs": [
    {
     "name": "stdout",
     "output_type": "stream",
     "text": [
      "single inheritance\n"
     ]
    }
   ],
   "source": [
    "inh.ch_func() ## displaying child function"
   ]
  },
  {
   "cell_type": "code",
   "execution_count": 87,
   "id": "fcb08bea-f055-429c-8518-c26ee09dbcc6",
   "metadata": {},
   "outputs": [],
   "source": [
    "# multiple inheritance\n",
    "class Parent:\n",
    "    def __init__(self , fname, fage, house, street):\n",
    "        self.firstname = fname\n",
    "        self.age = fage\n",
    "        self.house = house\n",
    "        self.street = street\n",
    "    def view(self):\n",
    "        print(self.firstname , self.age)\n",
    "        \n",
    "class Child_1:\n",
    "    def view2(self):\n",
    "        print(f\"for function parent2 {self.house} in town {self.street}\")\n",
    "        \n",
    "class Child(Parent, Child_1):\n",
    "    def ch_func(self):\n",
    "        print(f\"For parent1 {self.firstname} and parent2 {self.house}\")"
   ]
  },
  {
   "cell_type": "code",
   "execution_count": 91,
   "id": "7454c2e7-f90b-4940-81af-5ee60dfc0307",
   "metadata": {},
   "outputs": [],
   "source": [
    "child1 = Child(\"olushola\", 65,\"bussa\", \"kainji\")"
   ]
  },
  {
   "cell_type": "code",
   "execution_count": 92,
   "id": "106ac463-efba-4138-b9e9-e2141eba6c29",
   "metadata": {},
   "outputs": [
    {
     "name": "stdout",
     "output_type": "stream",
     "text": [
      "For parent1 olushola and parent2 bussa\n"
     ]
    }
   ],
   "source": [
    "child1.ch_func()"
   ]
  },
  {
   "cell_type": "code",
   "execution_count": 93,
   "id": "c7929a08-5e05-48bb-8746-378e3c5d70f0",
   "metadata": {},
   "outputs": [
    {
     "name": "stdout",
     "output_type": "stream",
     "text": [
      "for function parent2 bussa in town kainji\n"
     ]
    }
   ],
   "source": [
    "child1.view2()  ## calling on fuction 2 from child"
   ]
  },
  {
   "cell_type": "code",
   "execution_count": 38,
   "id": "b3d1fc48-71e9-498b-a94c-ff59a8461530",
   "metadata": {},
   "outputs": [
    {
     "name": "stdout",
     "output_type": "stream",
     "text": [
      "olushola 65\n"
     ]
    }
   ],
   "source": [
    "child1.view()"
   ]
  },
  {
   "cell_type": "code",
   "execution_count": 94,
   "id": "ddcf8f3a-de6f-4b8d-89b4-f691f90f75a2",
   "metadata": {},
   "outputs": [],
   "source": [
    "# multilevel inheritance\n",
    "class Parent:\n",
    "    def __init__(self , fname, fage, house, street):\n",
    "        self.firstname = fname\n",
    "        self.age = fage\n",
    "        self.house = house\n",
    "        self.street = street\n",
    "    def view(self):\n",
    "        print(self.firstname , self.age)\n",
    "        \n",
    "class Child_1(Parent):\n",
    "    def view2(self):\n",
    "        print(f\"for function parent2 {self.house} in town {self.street}\")\n",
    "        \n",
    "class Child(Child_1):\n",
    "    def ch_func(self):\n",
    "        print(f\"For parent1 {self.firstname} and parent2 {self.house}\")"
   ]
  },
  {
   "cell_type": "code",
   "execution_count": 95,
   "id": "27d3ad5d-c3d6-47ad-b4e8-67b8e4b56aec",
   "metadata": {},
   "outputs": [],
   "source": [
    "child1 = Child(\"olushola\", 65,\"bussa\", \"kainji\")"
   ]
  },
  {
   "cell_type": "code",
   "execution_count": 96,
   "id": "dce87314-81b8-4335-ac19-cda5151928ae",
   "metadata": {},
   "outputs": [
    {
     "name": "stdout",
     "output_type": "stream",
     "text": [
      "For parent1 olushola and parent2 bussa\n"
     ]
    }
   ],
   "source": [
    "child1.ch_func()"
   ]
  },
  {
   "cell_type": "code",
   "execution_count": 97,
   "id": "06cc7b60-6767-41a9-8548-6d66e316f9da",
   "metadata": {},
   "outputs": [
    {
     "name": "stdout",
     "output_type": "stream",
     "text": [
      "olushola 65\n"
     ]
    }
   ],
   "source": [
    "child1.view()"
   ]
  },
  {
   "cell_type": "code",
   "execution_count": 98,
   "id": "20b14a27-ddd5-416d-8574-d5340c6b78b9",
   "metadata": {},
   "outputs": [
    {
     "name": "stdout",
     "output_type": "stream",
     "text": [
      "for function parent2 bussa in town kainji\n"
     ]
    }
   ],
   "source": [
    "child1.view2() "
   ]
  },
  {
   "cell_type": "code",
   "execution_count": 79,
   "id": "bb329827-b22e-4fd8-893a-c3df49d14159",
   "metadata": {},
   "outputs": [],
   "source": [
    "# multilevel inheritance\n",
    "class Parent:\n",
    "    def __init__(self , fname, fage, house, street):\n",
    "        self.firstname = fname\n",
    "        self.age = fage\n",
    "        self.house = house\n",
    "        self.street = street\n",
    "    def view(self):\n",
    "        print(self.firstname , self.age)\n",
    "        \n",
    "class Child_1(Parent):\n",
    "    def func(self):\n",
    "        print(f\"for function parent2 {self.house} in town {self.street}\")\n",
    "        \n",
    "class Child(Parent):\n",
    "    def func_chi(self):\n",
    "        print(f\"For parent1 {self.firstname} and parent2 {self.house}\")"
   ]
  },
  {
   "cell_type": "code",
   "execution_count": 80,
   "id": "2d0c7228-036c-44a9-b75c-ac87d63acc40",
   "metadata": {},
   "outputs": [
    {
     "name": "stdout",
     "output_type": "stream",
     "text": [
      "olushola 65\n"
     ]
    }
   ],
   "source": [
    "Child0 = Child_1(\"olushola\", 65,\"bussa\", \"kainji\")\n",
    "Child0.view()"
   ]
  },
  {
   "cell_type": "code",
   "execution_count": 82,
   "id": "c8a52f1a-1dd2-4815-9eb2-c619bf97c973",
   "metadata": {},
   "outputs": [
    {
     "name": "stdout",
     "output_type": "stream",
     "text": [
      "for function parent2 bussa in town kainji\n"
     ]
    }
   ],
   "source": [
    "Child0 = Child_1(\"olushola\", 65,\"bussa\", \"kainji\")\n",
    "Child0.func()"
   ]
  },
  {
   "cell_type": "code",
   "execution_count": 83,
   "id": "39f4b275-342f-4060-94d0-ca6cba48428f",
   "metadata": {},
   "outputs": [
    {
     "name": "stdout",
     "output_type": "stream",
     "text": [
      "olushola 65\n"
     ]
    }
   ],
   "source": [
    "child1 = Child(\"olushola\", 65,\"bussa\", \"kainji\")\n",
    "child1.view()"
   ]
  },
  {
   "cell_type": "code",
   "execution_count": 84,
   "id": "3b6ddf8e-4653-4e60-b467-c8f0c9b9708d",
   "metadata": {},
   "outputs": [
    {
     "name": "stdout",
     "output_type": "stream",
     "text": [
      "For parent1 olushola and parent2 bussa\n"
     ]
    }
   ],
   "source": [
    "child1.func_chi()"
   ]
  },
  {
   "cell_type": "code",
   "execution_count": 117,
   "id": "6ef697de-ecd9-4ec2-a421-e14bfc90bbad",
   "metadata": {},
   "outputs": [],
   "source": [
    "class head:\n",
    "    def rev(self):\n",
    "        print(\"this is function one\")\n",
    "\n",
    "class chi(head):\n",
    "    def func2(self):\n",
    "        print(\"this is function 2\")\n",
    "        \n",
    "class chi2: ## class used in hybrid with head will have no link to root\n",
    "    def func3(self):\n",
    "        print(\" this is function 3\")\n",
    "        \n",
    "class chi3(head,chi2):\n",
    "    def func4(self):\n",
    "        print(\"this is function 4\")\n"
   ]
  },
  {
   "cell_type": "code",
   "execution_count": 120,
   "id": "8fa69a1a-ff78-4e2c-a0ad-c11ab7f61e16",
   "metadata": {},
   "outputs": [
    {
     "name": "stdout",
     "output_type": "stream",
     "text": [
      "this is function one\n"
     ]
    }
   ],
   "source": [
    "ob = chi3()\n",
    "ob.rev()"
   ]
  },
  {
   "cell_type": "code",
   "execution_count": 122,
   "id": "bdd71641-f854-4905-a21e-c9ed5b88f745",
   "metadata": {},
   "outputs": [
    {
     "name": "stdout",
     "output_type": "stream",
     "text": [
      " this is function 3\n"
     ]
    }
   ],
   "source": [
    "ob.func3()"
   ]
  },
  {
   "cell_type": "code",
   "execution_count": 123,
   "id": "1d4713be-4362-4c3b-9408-1095063ca8dc",
   "metadata": {},
   "outputs": [
    {
     "name": "stdout",
     "output_type": "stream",
     "text": [
      " this is function 4\n"
     ]
    }
   ],
   "source": [
    "ob.func4()"
   ]
  },
  {
   "cell_type": "code",
   "execution_count": 124,
   "id": "4891a07a-8d7e-4ef4-83b7-e4e872532b20",
   "metadata": {},
   "outputs": [],
   "source": [
    "### The end ######"
   ]
  }
 ],
 "metadata": {
  "kernelspec": {
   "display_name": "Python 3 (ipykernel)",
   "language": "python",
   "name": "python3"
  },
  "language_info": {
   "codemirror_mode": {
    "name": "ipython",
    "version": 3
   },
   "file_extension": ".py",
   "mimetype": "text/x-python",
   "name": "python",
   "nbconvert_exporter": "python",
   "pygments_lexer": "ipython3",
   "version": "3.10.8"
  }
 },
 "nbformat": 4,
 "nbformat_minor": 5
}
