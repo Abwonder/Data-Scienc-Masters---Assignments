{
 "cells": [
  {
   "cell_type": "markdown",
   "id": "cb067135",
   "metadata": {},
   "source": [
    "### Assignment  Web Api"
   ]
  },
  {
   "cell_type": "markdown",
   "id": "46304eda",
   "metadata": {},
   "source": [
    "### Question 1\n",
    "\n",
    "Q1. What is an API? Give an example, where an API is used in real life.\n",
    "\n",
    "API stands for application programming interface, which is a set of definitions and protocols for building and integrating application software.\n",
    "\n",
    "Real life application of API goes thus:\n",
    "\n",
    "1. Weather Snippets wWeather data is a popular API example that we come across regularly use on platform such as Google Search, Apple's Weather app, and even your smart home device.\n",
    "\n",
    "2. Log-in Using XYZ another well-known API example usage is the \"log in with Facebook/Twitter/Google/GitHub\" capability seen on many websites. Thus, applications with this capability use the APIs of these platforms to authenticate the user with each login.\n",
    "\n",
    "3. Travel Booking websites can collect thousands of flights and locations and present the lowest option? Using third-party APIs to retrieve airline and hotel availability from suppliers is frequently the answer. Similarly, if you book a trip through one of these services, they'll use APIs to confirm the trip with the supplier from whom it was sourced.\n",
    "\n",
    "4. Twitter Bots another real life use of API is the of bots available on Twitter. Twitter bots are accounts that tweet (or retweet), follow, and send direct messages in response to software commands. \n",
    "\n",
    "etc.....\n"
   ]
  },
  {
   "cell_type": "markdown",
   "id": "d0eb6f33",
   "metadata": {},
   "source": [
    "### Question 2\n",
    "Q2. Give advantages and disadvantages of using API.\n",
    "\n",
    "Advantage of API\n",
    "1. Interpretation of real objects.\n",
    "2. Identification of complex patterns and complex situations.\n",
    "3. Ability to include or ignore features intelligently.\n",
    "4. Multi-scale representation.\n",
    "5. Use of shape, context, neighbourhood relationships.\n",
    "\n",
    "Disadvantage of API\n",
    "1. Subjective.\n",
    "2. Time consuming.\n",
    "3. A fixed scale is necessary.\n",
    "4. Inconsistency in the use of a steady scale to the whole image.\n",
    "5. Human error.\n",
    "6. Imprecise bundary delineation.\n"
   ]
  },
  {
   "cell_type": "markdown",
   "id": "a5679b8a",
   "metadata": {},
   "source": [
    "### Question 3\n",
    "Q3. What is a Web API? Differentiate between API and Web API.\n",
    "\n",
    "A Web API (Application Programming Interface) is a set of protocols, standards, and tools that allows different software applications to communicate with each other over the internet. Specifically, a Web API enables a software application to access data or functionality provided by another software application, such as retrieving data from a database, performing calculations, or carrying out some other task.\n",
    "\n",
    "The differentiation between API and Web API can be structured to the following:\n",
    "\n",
    "1. Scope of Communication\n",
    "\n",
    "APIs can be used for different types of applications, including desktop and mobile applications, operating systems, databases, and web applications. In contrast, Web APIs are specifically designed for web-based applications and allow web-based systems to communicate and interact with each other over the internet.\n",
    "\n",
    "2. Protocol\n",
    "\n",
    "APIs can use different protocols for communication, such as RPC (Remote Procedure Call), SOAP (Simple Object Access Protocol), or REST (Representational State Transfer). On the other hand, Web APIs typically use RESTful protocols, which are designed specifically for web-based systems and use HTTP (Hypertext Transfer Protocol) for communication.\n",
    "\n",
    "3. Transport Mechanisms\n",
    "\n",
    "APIs can use different transport mechanisms for communication, such as sockets or message queues. In contrast, Web APIs use HTTP requests and responses to communicate and transfer data between different systems.\n",
    "\n",
    "4. Accessible via Internet\n",
    "\n",
    "Web APIs are accessible via the internet using standard HTTP protocols, making it easier for developers to access the API and for clients to interact with the API's services."
   ]
  },
  {
   "cell_type": "markdown",
   "id": "354214e7",
   "metadata": {},
   "source": [
    "### Question 4\n",
    "\n",
    "Q4. Explain REST and SOAP Architecture. Mention shortcomings of SOAP.\n",
    "\n",
    "REST Architecture is a software architectural style that defines the set of rules to be used for creating web services. Web services which follow the REST architectural style are known as RESTful web services. It allows requesting systems to access and manipulate web resources by using a uniform and predefined set of rules.\n",
    "\n",
    "SOAP Architecture has 4 layers present in its architecture : Header, Body, Envelope and Fault. It works on top of application layer protocols like HTTP and SMTP for notations and transmission."
   ]
  },
  {
   "cell_type": "markdown",
   "id": "6c69e759",
   "metadata": {},
   "source": [
    "### Question 5\n",
    "\n",
    "Q5. Differentiate between REST and SOAP.\n",
    "\n",
    "Below listed are the key differences between REST and SOAP base on the following categories:\n",
    "1. Architecture\n",
    "2. Messaging Format\n",
    "3. Communication Style\n",
    "4. Scalability and Performance\n",
    "\n",
    "*   Architecture\n",
    "REST is an architectural style, while SOAP is a protocol. REST uses a client-server model with stateless communication between them, where the server provides a resource or data that the client can interact with. SOAP, on the other hand, uses a messaging model with a set of standardized XML message formats for communication.\n",
    "\n",
    "*  Messaging Format\n",
    "REST uses simple message formats, such as JSON or XML, for data exchange between the client and server. These messages are easy to parse and are widely supported by different programming languages. SOAP, on the other hand, uses a more complex XML message format that includes additional information such as message headers and metadata.\n",
    "\n",
    "*  Communication style\n",
    "RESTful APIs communicate using standard HTTP methods, such as GET, POST, PUT, DELETE, and PATCH, to perform operations on resources. These operations are stateless and do not require a session to be maintained between the client and server. In contrast, SOAP-based APIs use a more complex request-response model, where the client sends a request to the server and waits for a response, which can include status codes, error messages, and other metadata.\n",
    "\n",
    "*  Scalability and Performance\n",
    "RESTful APIs are generally considered to be more scalable and performant than SOAP-based APIs, due to their stateless nature and simple messaging formats. They are also easier to cache and can handle more concurrent requests. SOAP-based APIs, on the other hand, can be more complex and require more overhead for handling requests and responses."
   ]
  },
  {
   "cell_type": "markdown",
   "id": "9576f155",
   "metadata": {},
   "source": [
    "#### End ####"
   ]
  }
 ],
 "metadata": {
  "kernelspec": {
   "display_name": "Python 3 (ipykernel)",
   "language": "python",
   "name": "python3"
  },
  "language_info": {
   "codemirror_mode": {
    "name": "ipython",
    "version": 3
   },
   "file_extension": ".py",
   "mimetype": "text/x-python",
   "name": "python",
   "nbconvert_exporter": "python",
   "pygments_lexer": "ipython3",
   "version": "3.9.12"
  }
 },
 "nbformat": 4,
 "nbformat_minor": 5
}
