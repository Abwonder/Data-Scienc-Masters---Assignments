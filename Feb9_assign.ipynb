{
 "cells": [
  {
   "cell_type": "markdown",
   "id": "485ad69f-e3d7-46ca-ba67-88264942ea6c",
   "metadata": {},
   "source": [
    "## OOPS Task Assignment"
   ]
  },
  {
   "cell_type": "markdown",
   "id": "cdbec217-0d2a-4fa3-aeaa-77ed45686404",
   "metadata": {},
   "source": [
    "### Question 1"
   ]
  },
  {
   "cell_type": "markdown",
   "id": "b54cf6e2-719b-43a0-bab1-c9b37028825b",
   "metadata": {},
   "source": [
    "Q1, Create a vehicle class with an init method having instance variables as name_of_vehicle, max_speed\n",
    "and average_of_vehicle."
   ]
  },
  {
   "cell_type": "code",
   "execution_count": 2,
   "id": "fd35bacc-4fd9-4054-8425-32d6a0d251b4",
   "metadata": {},
   "outputs": [],
   "source": [
    "## creating class\n",
    "class vehicle:\n",
    "    \n",
    "    def __init__(self, name_of_vehicle, max_speed, average_of_vehicle):\n",
    "        self.name_of_vehicle = name_of_vehicle\n",
    "        self.max_speed = max_speed\n",
    "        self.average_of_vehicle = average_of_vehicle\n",
    "  "
   ]
  },
  {
   "cell_type": "markdown",
   "id": "ce22c87e-f75f-4455-a80a-3f8f940d5d75",
   "metadata": {},
   "source": [
    "### Question 2"
   ]
  },
  {
   "cell_type": "markdown",
   "id": "88ef0d5c-7537-4b1f-8aac-8fb755c54416",
   "metadata": {},
   "source": [
    "Q2. Create a child class car from the vehicle class created in Que 1, which will inherit the vehicle class.\n",
    "Create a method named seating_capacity which takes capacity as an argument and returns the name of\n",
    "the vehicle and its seating capacity."
   ]
  },
  {
   "cell_type": "code",
   "execution_count": 3,
   "id": "0b4607fb-8ddc-4538-a7e6-85dc1f611823",
   "metadata": {},
   "outputs": [],
   "source": [
    "## The () is majorly used to inherite properties of other classes\n",
    "## my understandint so far!!\n",
    "class child(vehicle): \n",
    "    \n",
    "    def seating_capacity(self, capacity):\n",
    "        return self.name_of_vehicle , capacity"
   ]
  },
  {
   "cell_type": "code",
   "execution_count": 9,
   "id": "f4362744-36a0-4c81-9c7c-b853a03f7bd0",
   "metadata": {},
   "outputs": [],
   "source": [
    "child_withvvehicle = child(\"Nissan\", 240, 50)  ## child object with parent properties placeholder"
   ]
  },
  {
   "cell_type": "code",
   "execution_count": 8,
   "id": "a517e4be-f9f5-49b7-a3c9-a985bc347cda",
   "metadata": {},
   "outputs": [
    {
     "data": {
      "text/plain": [
       "('Nissan', 20)"
      ]
     },
     "execution_count": 8,
     "metadata": {},
     "output_type": "execute_result"
    }
   ],
   "source": [
    "child_withvvehicle.seating_capacity(20) "
   ]
  },
  {
   "cell_type": "markdown",
   "id": "1c92811f-7452-41af-a4d8-a387abb3f45a",
   "metadata": {},
   "source": [
    "### Question 3"
   ]
  },
  {
   "cell_type": "markdown",
   "id": "88b00143-fa57-4d5c-a0a2-7f64d9b21552",
   "metadata": {},
   "source": [
    "Q3. What is multiple inheritance? Write a python code to demonstrate multiple inheritance.\n"
   ]
  },
  {
   "cell_type": "code",
   "execution_count": 10,
   "id": "b5d91654-3fa0-4178-8eae-0069123a621e",
   "metadata": {},
   "outputs": [],
   "source": [
    "# multiple inheritance\n",
    "class Parent:\n",
    "    def __init__(self , fname, fage, house, street):\n",
    "        self.firstname = fname\n",
    "        self.age = fage\n",
    "        self.house = house\n",
    "        self.street = street\n",
    "    def view(self):\n",
    "        print(self.firstname , self.age)\n",
    "        \n",
    "class Child_1:\n",
    "    def view2(self):\n",
    "        print(f\"for function parent2 {self.house} in town {self.street}\")\n",
    "        \n",
    "class Child(Parent, Child_1):\n",
    "    def ch_func(self):\n",
    "        print(f\"For parent1 {self.firstname} and parent2 {self.house}\")"
   ]
  },
  {
   "cell_type": "code",
   "execution_count": 11,
   "id": "852e2c89-068d-4bd0-bf49-f0d4bb279082",
   "metadata": {},
   "outputs": [],
   "source": [
    "child1 = Child(\"olushola\", 65,\"bussa\", \"kainji\")"
   ]
  },
  {
   "cell_type": "code",
   "execution_count": 12,
   "id": "331c459f-cd63-41d0-b6a2-3aa667aca99a",
   "metadata": {},
   "outputs": [
    {
     "name": "stdout",
     "output_type": "stream",
     "text": [
      "For parent1 olushola and parent2 bussa\n"
     ]
    }
   ],
   "source": [
    "child1.ch_func()"
   ]
  },
  {
   "cell_type": "code",
   "execution_count": 13,
   "id": "97922ff5-4521-44f7-a283-30ab70a1e306",
   "metadata": {},
   "outputs": [
    {
     "name": "stdout",
     "output_type": "stream",
     "text": [
      "for function parent2 bussa in town kainji\n"
     ]
    }
   ],
   "source": [
    "child1.view2()"
   ]
  },
  {
   "cell_type": "code",
   "execution_count": 14,
   "id": "227cf80c-f35f-47ac-8a41-5660ff0b8679",
   "metadata": {},
   "outputs": [
    {
     "name": "stdout",
     "output_type": "stream",
     "text": [
      "olushola 65\n"
     ]
    }
   ],
   "source": [
    "child1.view()"
   ]
  },
  {
   "cell_type": "markdown",
   "id": "299f9e58-44fb-490b-a46d-ca83a2c8d855",
   "metadata": {},
   "source": [
    "### Question 4"
   ]
  },
  {
   "cell_type": "markdown",
   "id": "a2b64553-cfda-4868-a42c-d08b42991439",
   "metadata": {},
   "source": [
    "Q4. What are getter and setter in python? Create a class and create a getter and a setter method in this\n",
    "class.\n",
    "\n",
    "Getter refers to method that allow access to an attribute of a class in python OOPS while\n",
    "\n",
    "Setter refers to method that permit and allow mutation and changing of attributes in a class in python OOPs"
   ]
  },
  {
   "cell_type": "code",
   "execution_count": 32,
   "id": "159c5d43-7bfd-430b-a574-6d2d8b607a60",
   "metadata": {},
   "outputs": [],
   "source": [
    "class student:\n",
    "    \n",
    "    def __init__(self, class_level, teachers_name, class_number):\n",
    "        self.class_level = class_level\n",
    "        self.teachers_name = teachers_name\n",
    "        self.class_number = 0\n",
    "        \n",
    "    def set_class_number(self, class_number):\n",
    "        self.class_number = 0 if class_number<0 else class_number  ## the assigment \n",
    "        \n",
    "    ## logic can be use for the assignment\n",
    "        \n",
    "    def get_class_number(self):\n",
    "        return self.class_number"
   ]
  },
  {
   "cell_type": "code",
   "execution_count": 33,
   "id": "1654f405-6986-4753-a6e2-07b8d6f79030",
   "metadata": {},
   "outputs": [],
   "source": [
    "studen_det = student(\"grade 12\", \"Adeyemi\", 20)"
   ]
  },
  {
   "cell_type": "code",
   "execution_count": 34,
   "id": "0014e8d5-f52a-421a-96cb-ad5d35f6bf09",
   "metadata": {},
   "outputs": [
    {
     "data": {
      "text/plain": [
       "0"
      ]
     },
     "execution_count": 34,
     "metadata": {},
     "output_type": "execute_result"
    }
   ],
   "source": [
    "studen_det.get_class_number()"
   ]
  },
  {
   "cell_type": "code",
   "execution_count": 37,
   "id": "dd3a4472-1c80-4233-82a3-9c68edefee1d",
   "metadata": {},
   "outputs": [],
   "source": [
    "## lets reset the class number\n",
    "\n",
    "studen_det.set_class_number(-123)"
   ]
  },
  {
   "cell_type": "code",
   "execution_count": null,
   "id": "a1cd2b86-8070-47d9-9646-3daee3029a95",
   "metadata": {},
   "outputs": [
    {
     "data": {
      "text/plain": [
       "0"
      ]
     },
     "execution_count": 38,
     "metadata": {},
     "output_type": "execute_result"
    }
   ],
   "source": [
    "studen_det.get_class_number()"
   ]
  },
  {
   "cell_type": "code",
   "execution_count": 39,
   "id": "8f4de8cb-a568-47b7-aacb-6827749a683c",
   "metadata": {},
   "outputs": [],
   "source": [
    "## if its greater that 0\n",
    "studen_det.set_class_number(1000)\n"
   ]
  },
  {
   "cell_type": "code",
   "execution_count": 40,
   "id": "1d892c21-ee38-4daf-b09c-8701d55838a2",
   "metadata": {},
   "outputs": [
    {
     "data": {
      "text/plain": [
       "1000"
      ]
     },
     "execution_count": 40,
     "metadata": {},
     "output_type": "execute_result"
    }
   ],
   "source": [
    "studen_det.get_class_number()"
   ]
  },
  {
   "cell_type": "markdown",
   "id": "5276fdc5-9f4c-4797-acc5-f645cd9b2c21",
   "metadata": {},
   "source": [
    "### Question 5"
   ]
  },
  {
   "cell_type": "markdown",
   "id": "3e3669ae-f622-4460-8676-3445d2b25ca5",
   "metadata": {},
   "source": [
    "Q5.What is method overriding in python? Write a python code to demonstrate method overriding."
   ]
  },
  {
   "cell_type": "markdown",
   "id": "e486e123-56de-4808-8327-b78d81c5567e",
   "metadata": {},
   "source": [
    "Method overriding in python is one of the properties of OOPS where a subclass is able to provide and implementation that has been use in a superclass or parent classes"
   ]
  },
  {
   "cell_type": "code",
   "execution_count": 41,
   "id": "8248b2a4-bbb1-439d-bee9-81a30c120b39",
   "metadata": {},
   "outputs": [],
   "source": [
    "class fam:\n",
    "    \n",
    "    def __init__(self, fname, fage):\n",
    "        self.fathername = fname\n",
    "        self.fatherage = fage\n",
    "        \n",
    "    def show_fam(self):\n",
    "        return self.fathername, self.fatherage\n",
    "    \n",
    "class child(fam):\n",
    "    def __init__(self, fname, fage):\n",
    "        self.fathername = fname\n",
    "        self.fatherage = fage\n",
    "        \n",
    "    def show_child(self):\n",
    "        return self.fathername, self.fatherage"
   ]
  },
  {
   "cell_type": "code",
   "execution_count": 43,
   "id": "76f43fc9-76ed-4691-9e31-5fa030de0e15",
   "metadata": {},
   "outputs": [
    {
     "data": {
      "text/plain": [
       "('Olushola', 65)"
      ]
     },
     "execution_count": 43,
     "metadata": {},
     "output_type": "execute_result"
    }
   ],
   "source": [
    "fam_class = fam(\"Olushola\", 65)\n",
    "fam_class.show_fam()"
   ]
  },
  {
   "cell_type": "code",
   "execution_count": 46,
   "id": "5f17a88f-a25a-4460-85cf-b23049e2a4fe",
   "metadata": {},
   "outputs": [
    {
     "data": {
      "text/plain": [
       "('Felicia', 55)"
      ]
     },
     "execution_count": 46,
     "metadata": {},
     "output_type": "execute_result"
    }
   ],
   "source": [
    "child_class = child(\"Felicia\", 55)\n",
    "child_class.show_child()"
   ]
  },
  {
   "cell_type": "code",
   "execution_count": 48,
   "id": "80110e17-5d3b-4f8b-a5b1-2a33edce42b1",
   "metadata": {},
   "outputs": [
    {
     "data": {
      "text/plain": [
       "('Felicia', 55)"
      ]
     },
     "execution_count": 48,
     "metadata": {},
     "output_type": "execute_result"
    }
   ],
   "source": [
    "child_class.show_fam()"
   ]
  },
  {
   "cell_type": "code",
   "execution_count": 50,
   "id": "b6bcdc53-f36d-4654-89a9-dc386b8a7b64",
   "metadata": {},
   "outputs": [
    {
     "data": {
      "text/plain": [
       "('Olushola', 65)"
      ]
     },
     "execution_count": 50,
     "metadata": {},
     "output_type": "execute_result"
    }
   ],
   "source": [
    "fam_class.show_fam() ## the method for the father still remains"
   ]
  }
 ],
 "metadata": {
  "kernelspec": {
   "display_name": "Python 3 (ipykernel)",
   "language": "python",
   "name": "python3"
  },
  "language_info": {
   "codemirror_mode": {
    "name": "ipython",
    "version": 3
   },
   "file_extension": ".py",
   "mimetype": "text/x-python",
   "name": "python",
   "nbconvert_exporter": "python",
   "pygments_lexer": "ipython3",
   "version": "3.10.8"
  }
 },
 "nbformat": 4,
 "nbformat_minor": 5
}
