{
 "cells": [
  {
   "cell_type": "markdown",
   "id": "f0e71369-7493-465f-8016-6d0e3f175be9",
   "metadata": {},
   "source": [
    "### Question 1"
   ]
  },
  {
   "cell_type": "markdown",
   "id": "d6a1c3d6-81c2-4d58-8ec9-8dd6c9af26df",
   "metadata": {},
   "source": [
    "Q1. You are writing code for a company. The requirement of the company is that you create a python\n",
    "function that will check whether the password entered by the user is correct or not. The function should\n",
    "take the password as input and return the string “Valid Password” if the entered password follows the\n",
    "below-given password guidelines else it should return “Invalid Password”.\n",
    "\n",
    "\n",
    "__Note:__ \n",
    "\n",
    "1. The Password should contain at least two uppercase letters and at least two lowercase letters.\n",
    "2. The Password should contain at least a number and three special characters.\n",
    "3. The length of the password should be 10 characters long."
   ]
  },
  {
   "cell_type": "code",
   "execution_count": 45,
   "id": "e9d48993-730a-461b-a50b-a355c7190def",
   "metadata": {},
   "outputs": [],
   "source": [
    "def validate_password(password):\n",
    "    upper = 0\n",
    "    lower = 0\n",
    "    number = 0\n",
    "    special = 0\n",
    "\n",
    "    if len(password) >= 10:\n",
    "        for i in list(password):\n",
    "            # print(i)\n",
    "            if i.isalpha() == True:\n",
    "                # print(i)\n",
    "                if i.isupper() == True:\n",
    "                    # print(i)\n",
    "                    upper+=1\n",
    "                    # break\n",
    "                elif i.islower() == True:\n",
    "                    # print(i)\n",
    "                    lower+=1\n",
    "                    # break\n",
    "            elif i.isnumeric() == True:\n",
    "                number+=1\n",
    "                # break\n",
    "            else:\n",
    "                special+=1\n",
    "                # break\n",
    "        # return upper, lower, number, special\n",
    "        if upper >= 2 and lower >= 2 and number >= 1 and special >= 3:\n",
    "            print(\"Valid Password\")\n",
    "        else:\n",
    "            print(\"Invalid Password1\")\n",
    "    else:\n",
    "        print(\"Invalid Password2: pasword below 10 character!!!\")"
   ]
  },
  {
   "cell_type": "code",
   "execution_count": 42,
   "id": "2a09dcc6-28a7-4911-a8fc-faa634c94789",
   "metadata": {},
   "outputs": [
    {
     "name": "stdout",
     "output_type": "stream",
     "text": [
      "Valid Password\n"
     ]
    }
   ],
   "source": [
    "new_password = \"ABCsre1234@#!)\"\n",
    "validate_password(new_password)"
   ]
  },
  {
   "cell_type": "code",
   "execution_count": 46,
   "id": "31a37359-80e2-43ad-8939-f967fb1685f8",
   "metadata": {},
   "outputs": [
    {
     "name": "stdout",
     "output_type": "stream",
     "text": [
      "Invalid Password1\n"
     ]
    }
   ],
   "source": [
    "new_password2 = \"99kjfhdjsk@@ishenf\"\n",
    "validate_password(new_password2)"
   ]
  },
  {
   "cell_type": "code",
   "execution_count": 48,
   "id": "d663630d-9c18-4ffd-8ee6-ce09c12ab687",
   "metadata": {},
   "outputs": [
    {
     "name": "stdout",
     "output_type": "stream",
     "text": [
      "Invalid Password2: pasword below 10 character!!!\n"
     ]
    }
   ],
   "source": [
    "paswwordless10 = \"Ab878e\"\n",
    "validate_password(paswwordless10)"
   ]
  },
  {
   "cell_type": "code",
   "execution_count": null,
   "id": "b18575a9-2187-40a0-9ab7-a2a0de65c2ee",
   "metadata": {},
   "outputs": [],
   "source": []
  },
  {
   "cell_type": "markdown",
   "id": "3fcf1404-527e-4dc5-8478-e4bae96aa682",
   "metadata": {},
   "source": [
    "### Question 2"
   ]
  },
  {
   "cell_type": "markdown",
   "id": "954a0ddf-167c-41a3-b5c0-8aa6dce9984f",
   "metadata": {},
   "source": [
    "Q2. Solve the below-given questions using at least one of the following:\n",
    "1. Lambda functioJ\n",
    "2. Filter functioJ\n",
    "3. Zap functioJ\n",
    "4. List Comprehension\n",
    "\n",
    "* Check if the string starts with a particular letter.\n",
    "* Check if the string is numeric.\n",
    "* Sort a list of tuples having fruit names and their quantity. [(\"mango\",99),(\"orange\",80), (\"grapes\", 1000)]\n",
    "* Find the squares of numbers from 1 to 10Y\n",
    "* Find the cube root of numbers from 1 to 10Y\n",
    "* Check if a given number is evenY\n",
    "* Filter odd numbers from the given list.\n",
    "[1,2,3,4,5,6,7,8,9,10]\n",
    "* Sort a list of integers into positive and negative integers lists.\n",
    "[1,2,3,4,5,6,-1,-2,-3,-4,-5,0]"
   ]
  },
  {
   "cell_type": "markdown",
   "id": "0570c541-6e38-4c7f-bac3-009663335669",
   "metadata": {},
   "source": [
    "1. Check if the string starts with a particular letter"
   ]
  },
  {
   "cell_type": "code",
   "execution_count": 66,
   "id": "0748df0e-e827-4963-88bf-a3776a3ff80d",
   "metadata": {},
   "outputs": [],
   "source": [
    "def check_first_letter(text):\n",
    "    check_function = lambda x: \"yes\" if x == \"A\" else \"No\"  ##checking for A starting letter\n",
    "    result = list(map(check_function, list(text)))\n",
    "    return result[0]"
   ]
  },
  {
   "cell_type": "code",
   "execution_count": 67,
   "id": "ebf7f744-f748-4f39-b5e2-a638fa740234",
   "metadata": {},
   "outputs": [
    {
     "data": {
      "text/plain": [
       "'yes'"
      ]
     },
     "execution_count": 67,
     "metadata": {},
     "output_type": "execute_result"
    }
   ],
   "source": [
    "name = \"Abioye90384\"\n",
    "check_first_letter(name)"
   ]
  },
  {
   "cell_type": "code",
   "execution_count": 68,
   "id": "02fe4312-4bac-4155-9d9f-dfbb08b91492",
   "metadata": {},
   "outputs": [
    {
     "data": {
      "text/plain": [
       "'No'"
      ]
     },
     "execution_count": 68,
     "metadata": {},
     "output_type": "execute_result"
    }
   ],
   "source": [
    "name = \"learningdayily\"\n",
    "check_first_letter(name)"
   ]
  },
  {
   "cell_type": "markdown",
   "id": "0f2acaca-6f8b-44e6-9721-e1787cb4e795",
   "metadata": {},
   "source": [
    "2. Check if the string is numeric."
   ]
  },
  {
   "cell_type": "code",
   "execution_count": 87,
   "id": "3b3e534d-153c-4a42-86fa-a8c930105f29",
   "metadata": {},
   "outputs": [],
   "source": [
    "def check_string_numeric(text):\n",
    "    check_function = lambda x: \"yes\" if x.isnumeric() == True else \"No\"  ##checking for A starting letter\n",
    "    result = list(map(check_function, list(text)))\n",
    "    return result[0]"
   ]
  },
  {
   "cell_type": "code",
   "execution_count": 88,
   "id": "e19d16c9-0ab1-4c71-9495-6533ae98f06b",
   "metadata": {},
   "outputs": [
    {
     "data": {
      "text/plain": [
       "'yes'"
      ]
     },
     "execution_count": 88,
     "metadata": {},
     "output_type": "execute_result"
    }
   ],
   "source": [
    "check_string = \"11234learningdayily\"\n",
    "check_string_numeric(check_string)"
   ]
  },
  {
   "cell_type": "code",
   "execution_count": 89,
   "id": "e4c687ee-3271-4091-b875-837f4611bc0f",
   "metadata": {},
   "outputs": [
    {
     "data": {
      "text/plain": [
       "'No'"
      ]
     },
     "execution_count": 89,
     "metadata": {},
     "output_type": "execute_result"
    }
   ],
   "source": [
    "check_string = \"learningdayily\"\n",
    "check_string_numeric(check_string)"
   ]
  },
  {
   "cell_type": "markdown",
   "id": "25f6c609-3eec-4314-950a-173b777b0d08",
   "metadata": {},
   "source": [
    "Sort a list of tuples having fruit names and their quantity.\n",
    "[(\"mango\",99),(\"orange\",80), (\"grapes\", 1000)]"
   ]
  },
  {
   "cell_type": "code",
   "execution_count": 99,
   "id": "b182cc64-393e-4edf-849d-dca817e68d9a",
   "metadata": {},
   "outputs": [
    {
     "data": {
      "text/plain": [
       "[('orange', 80), ('mango', 99), ('grapes', 1000)]"
      ]
     },
     "execution_count": 99,
     "metadata": {},
     "output_type": "execute_result"
    }
   ],
   "source": [
    "lst_tuple = [(\"mango\",99),(\"orange\",80), (\"grapes\", 1000)]\n",
    "lst_tuple.sort(key=lambda x: x[1])\n",
    "lst_tuple"
   ]
  },
  {
   "cell_type": "markdown",
   "id": "2e0e6b2f-f073-485a-8412-8cd054dee545",
   "metadata": {},
   "source": [
    "* Find the squares of numbers from 1 to 10"
   ]
  },
  {
   "cell_type": "code",
   "execution_count": 101,
   "id": "a10d1e80-dfb9-46bf-829d-d245a6eec813",
   "metadata": {},
   "outputs": [
    {
     "data": {
      "text/plain": [
       "[1, 4, 9, 16, 25, 36, 49, 64, 81, 100]"
      ]
     },
     "execution_count": 101,
     "metadata": {},
     "output_type": "execute_result"
    }
   ],
   "source": [
    "lst_num = [1,2,3,4,5,6,7,8,9,10]\n",
    "lst_sq = list(map(lambda x: x**2, lst_num))\n",
    "lst_sq"
   ]
  },
  {
   "cell_type": "markdown",
   "id": "3b2dd252-07ec-4c15-aab1-8c108c3bc185",
   "metadata": {},
   "source": [
    "* Find the cube root of numbers from 1 to 10."
   ]
  },
  {
   "cell_type": "code",
   "execution_count": 102,
   "id": "de0060ef-0785-4f64-ad45-f8b0e79065a1",
   "metadata": {},
   "outputs": [
    {
     "data": {
      "text/plain": [
       "[1.0,\n",
       " 1.2599210498948732,\n",
       " 1.4422495703074083,\n",
       " 1.5874010519681994,\n",
       " 1.7099759466766968,\n",
       " 1.8171205928321397,\n",
       " 1.912931182772389,\n",
       " 2.0,\n",
       " 2.080083823051904,\n",
       " 2.154434690031884]"
      ]
     },
     "execution_count": 102,
     "metadata": {},
     "output_type": "execute_result"
    }
   ],
   "source": [
    "lst_num = [1,2,3,4,5,6,7,8,9,10]\n",
    "lst_cuberoot = list(map(lambda x: x**(1/3), lst_num))\n",
    "lst_cuberoot"
   ]
  },
  {
   "cell_type": "code",
   "execution_count": 123,
   "id": "a6c72457-9e36-4115-b6b0-f0123cecd72f",
   "metadata": {},
   "outputs": [
    {
     "data": {
      "text/plain": [
       "[1.0,\n",
       " 1.2599210498948732,\n",
       " 1.4422495703074083,\n",
       " 1.5874010519681994,\n",
       " 1.7099759466766968,\n",
       " 1.8171205928321397,\n",
       " 1.912931182772389,\n",
       " 2.0,\n",
       " 2.080083823051904,\n",
       " 2.154434690031884]"
      ]
     },
     "execution_count": 123,
     "metadata": {},
     "output_type": "execute_result"
    }
   ],
   "source": [
    "## another way to do it\n",
    "lst_num = [1,2,3,4,5,6,7,8,9,10]\n",
    "lst_cuberoot =[x**(1/3) for x in lst_num]\n",
    "lst_cuberoot"
   ]
  },
  {
   "cell_type": "markdown",
   "id": "adc07de7-6551-4b5f-b02a-8463e1479dbc",
   "metadata": {},
   "source": [
    "* Check if a given number is even."
   ]
  },
  {
   "cell_type": "code",
   "execution_count": 116,
   "id": "5e4b667d-dfda-4fd1-9fd0-996fc7e8a58f",
   "metadata": {},
   "outputs": [
    {
     "data": {
      "text/plain": [
       "'yes'"
      ]
     },
     "execution_count": 116,
     "metadata": {},
     "output_type": "execute_result"
    }
   ],
   "source": [
    "number = 30\n",
    "check_even = lambda number: \"yes\" if number%2 == 0 else \"no\"\n",
    "check_even(number)"
   ]
  },
  {
   "cell_type": "markdown",
   "id": "a2c1d18a-a4a2-4b2f-a048-526ce63ec1c7",
   "metadata": {},
   "source": [
    "* Filter odd numbers from the given list.\n",
    "\n",
    "[1,2,3,4,5,6,7,8,9,10]"
   ]
  },
  {
   "cell_type": "code",
   "execution_count": 121,
   "id": "d8c37e3c-02e5-44d2-bade-4e9eefacd963",
   "metadata": {},
   "outputs": [
    {
     "data": {
      "text/plain": [
       "[2, 4, 6, 8, 10]"
      ]
     },
     "execution_count": 121,
     "metadata": {},
     "output_type": "execute_result"
    }
   ],
   "source": [
    "list2 = [1,2,3,4,5,6,7,8,9,10]\n",
    "list(filter(lambda x: x%2==0, list2))"
   ]
  },
  {
   "cell_type": "markdown",
   "id": "51619c03-71a6-4b45-a1ca-9da4bb627b71",
   "metadata": {},
   "source": [
    "* Sort a list of integers into positive and negative integers lists.\n",
    "\n",
    "[1,2,3,4,5,6,-1,-2,-3,-4,-5,0]"
   ]
  },
  {
   "cell_type": "code",
   "execution_count": 127,
   "id": "e82a5065-641a-4eb8-a9b3-5a8614153af0",
   "metadata": {},
   "outputs": [
    {
     "data": {
      "text/plain": [
       "[1, 2, 3, 4, 5, 6, 0]"
      ]
     },
     "execution_count": 127,
     "metadata": {},
     "output_type": "execute_result"
    }
   ],
   "source": [
    "# List of positive numbers\n",
    "list5=[1,2,3,4,5,6,-1,-2,-3,-4,-5,0]\n",
    "list(filter(lambda x: x>=0, list5))"
   ]
  },
  {
   "cell_type": "code",
   "execution_count": 128,
   "id": "c05bd91e-0222-4bbf-a068-0834d83e4cbe",
   "metadata": {},
   "outputs": [
    {
     "data": {
      "text/plain": [
       "[-1, -2, -3, -4, -5]"
      ]
     },
     "execution_count": 128,
     "metadata": {},
     "output_type": "execute_result"
    }
   ],
   "source": [
    "## List of negative numbers\n",
    "list5=[1,2,3,4,5,6,-1,-2,-3,-4,-5,0]\n",
    "list(filter(lambda x: x<0, list5))"
   ]
  },
  {
   "cell_type": "code",
   "execution_count": null,
   "id": "ed3923d5-7301-471e-b787-a599dc1d3122",
   "metadata": {},
   "outputs": [],
   "source": [
    "#### The End ########"
   ]
  }
 ],
 "metadata": {
  "kernelspec": {
   "display_name": "Python 3 (ipykernel)",
   "language": "python",
   "name": "python3"
  },
  "language_info": {
   "codemirror_mode": {
    "name": "ipython",
    "version": 3
   },
   "file_extension": ".py",
   "mimetype": "text/x-python",
   "name": "python",
   "nbconvert_exporter": "python",
   "pygments_lexer": "ipython3",
   "version": "3.10.8"
  }
 },
 "nbformat": 4,
 "nbformat_minor": 5
}
