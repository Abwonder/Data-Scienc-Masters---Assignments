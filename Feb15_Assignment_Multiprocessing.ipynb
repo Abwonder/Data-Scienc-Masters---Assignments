{
 "cells": [
  {
   "cell_type": "markdown",
   "id": "62c1e09b",
   "metadata": {},
   "source": [
    "## Assignment __ Multiprocessing "
   ]
  },
  {
   "cell_type": "markdown",
   "id": "001a0c75",
   "metadata": {},
   "source": [
    "### Question 1\n",
    "Q1. What is multiprocessing in python? Why is it useful?\n",
    "\n",
    "Multiprocessing refers to the ability of a system to support more than one processor at the same time. Applications in a multiprocessing system are broken to smaller routines that run independently. it connote running operation in parallel and most useful for operation that require more processing computational power.\n",
    "\n",
    "The primary advantage of a multiprocessor computer is speed, and thus the ability to manage larger amounts of information, it is useful for running operation that require high computational power where task can be delegated to different processor and they run independent of one another. Its improve the speed of running programs."
   ]
  },
  {
   "cell_type": "markdown",
   "id": "375c6817",
   "metadata": {},
   "source": [
    "### Question 2\n",
    "\n",
    "Q2. What are the differences between multiprocessing and multithreading?\n",
    "\n",
    "Below are the differences between them:\n",
    "\n",
    "1. In Multiprocessing, Many processes are executed simultaneously while in multithreading, many threads of a process are executed simultaneously.\n",
    "2. Multiprocessing are classified into Symmetric and Asymmetric while Multithreading is not classified in any categories.\n",
    "3. In Multiprocessing, Process creation is a time-consuming process while in Multithreading, process creation is according to economical.\n",
    "4. In Multiprocessing, every process owned a separate address space while in Multithreading, a common address space is shared by all the threads.\n",
    "5. \tIn Multiprocessing, CPUs are added for increasing computing power while In Multithreading, many threads are created of a single process for increasing computing power."
   ]
  },
  {
   "cell_type": "markdown",
   "id": "25d1d254",
   "metadata": {},
   "source": [
    "### Question 3\n",
    "Q3. Write a python code to create a process using the multiprocessing module."
   ]
  },
  {
   "cell_type": "code",
   "execution_count": 1,
   "id": "4df285a5",
   "metadata": {},
   "outputs": [
    {
     "name": "stdout",
     "output_type": "stream",
     "text": [
      "15 is not a prime number\n",
      "Process created\n"
     ]
    }
   ],
   "source": [
    "##\n",
    "import multiprocessing\n",
    "\n",
    "def check_prime(number):\n",
    "#     number = 15\n",
    "    if number < 2:\n",
    "        print(f'{number} is not a prime number')\n",
    "    elif number == 2:\n",
    "        print('2 is prime number!!!')\n",
    "    elif number > 2:\n",
    "        for i in range(2, number):\n",
    "            if number%i ==0:\n",
    "                print(f'{number} is not a prime number')\n",
    "                break\n",
    "    else:\n",
    "        print(f'{number} is prime')\n",
    "# check_prime()\n",
    "\n",
    "if __name__==\"__main__\":\n",
    "    p1 = multiprocessing.Process(target=check_prime, args=(15, ))\n",
    "    p1.start()\n",
    "    p1.join()\n",
    "    print('Process created!!!')\n"
   ]
  },
  {
   "cell_type": "markdown",
   "id": "41ad6090-2d09-4768-ad2e-2aabba89b199",
   "metadata": {},
   "source": [
    "### Question 4\n",
    "Q4. What is a multiprocessing pool in python? Why is it used?\n",
    "\n",
    "Multiprocessing pool in python is a flexible and powerful process pool for executing ad hoc CPU-bound tasks in a synchronous or asynchronous manner, this give a programmer the ability to map different argument to a function and run them all in parallel. \n",
    "\n",
    "However its use is to perform repeated programs or operation in parallel which is a more efficient way to run parallel operation at the same time leading to improve execution time.\n"
   ]
  },
  {
   "cell_type": "markdown",
   "id": "d8bc2999-0cd0-4609-829a-f2a3855291b6",
   "metadata": {},
   "source": [
    "### Question 5\n",
    "Q5. How can we create a pool of worker processes in python using the multiprocessing module?\n",
    "\n",
    "Pool of worker processes is started using the multiprocessing.Pool class from multiprocessing module in python, the process goes as follows:\n",
    "a. Define/create the worker function with determined argument(s) which will represent the worker processing number.\n",
    "b. Using multiprocessing.Pool to create the number of worker processes be run syncronously and \"with\" can be used for proper handling of processes closing. eg\n",
    "        with multiprocessing.Pool(processes=7) as pool:   ## 7 worker process is created here.\n",
    "c. Finally, pool.map will be applied to start the worker processes with number(index) 0-6. This map() method apply all worker function to each element in the iterable and distributing the processes among the workers in the pool.\n",
    "\n",
    "Note that the if __name__ == '__main__' block is important to include when using the multiprocessing module to avoid issues with pickling and importing the module.\n",
    "\n",
    "\n"
   ]
  },
  {
   "cell_type": "code",
   "execution_count": 4,
   "id": "0efde18e",
   "metadata": {},
   "outputs": [
    {
     "name": "stdout",
     "output_type": "stream",
     "text": [
      "WorkerWorkerWorkerWorker    1302    startedstartedstartedstarted\n",
      "\n",
      "\n",
      "\n",
      "WorkerWorkerWorkerWorker    1320    is doing the work!!!is doing the work!!!is doing the work!!!\n",
      "is doing the work!!!\n",
      "\n",
      "WorkerWorker\n",
      "Worker  Worker 31 2  0 finishedfinished finished\n",
      "\n",
      "finished\n",
      "WorkerWorker\n",
      "Worker  Worker 54 6  7 startedstarted \n",
      "started\n",
      "startedWorker\n",
      "Worker\n",
      "  WorkerWorker54    67is doing the work!!!is doing the work!!!  \n",
      "\n",
      "is doing the work!!!is doing the work!!!WorkerWorker\n",
      " \n",
      "Worker 5Worker 4   6finished7finished \n",
      " \n",
      "finishedfinishedWorkerWorker\n",
      "\n",
      " 8 9  startedstarted\n",
      "\n",
      "WorkerWorker  89  is doing the work!!!is doing the work!!!\n",
      "\n",
      "WorkerWorker  89  finishedfinished\n",
      "\n"
     ]
    }
   ],
   "source": [
    "## Example of starting workers!!\n",
    "import multiprocessing\n",
    "\n",
    "def worker(num):\n",
    "    \"\"\"Function run by worker processes.\"\"\"\n",
    "    print('Worker', num, 'started')\n",
    "    print('Worker', num, 'is doing the work!!!')\n",
    "    print('Worker', num, 'finished')\n",
    "\n",
    "if __name__ == '__main__':\n",
    "    # Create a pool of 4 worker processes\n",
    "    with multiprocessing.Pool(processes=4) as pool:\n",
    "        # Start the worker processes with numbers 0-3\n",
    "        pool.map(worker, range(10))"
   ]
  },
  {
   "cell_type": "markdown",
   "id": "912c8836-ae59-4b0b-b908-fa4146ef3c44",
   "metadata": {},
   "source": [
    "### Question 6\n",
    "Q6. Write a python program to create 4 processes, each process should print a different number using the\n",
    "multiprocessing module in python."
   ]
  },
  {
   "cell_type": "code",
   "execution_count": 12,
   "id": "1aed93c7",
   "metadata": {},
   "outputs": [
    {
     "name": "stdout",
     "output_type": "stream",
     "text": [
      "square of 4: 16\n",
      "square of 7: 49\n",
      "square of 3: 9\n",
      "square of 9: 81\n"
     ]
    }
   ],
   "source": [
    "## Creating 4 different processes printing different numbers\n",
    "\n",
    "def square(x):\n",
    "    print(f'square of {x}: {x*x}')\n",
    "    \n",
    "# square(9)\n",
    "nums = [4,7,3,9]\n",
    "lst = []\n",
    "if __name__==\"__main__\":\n",
    "    results = [multiprocessing.Process(target=square, args = (i, )) for i in nums]\n",
    "    for result in results:\n",
    "        result.start()\n",
    "        lst.append(result)\n",
    "    for result in lst:\n",
    "        result.join()\n",
    "        "
   ]
  },
  {
   "cell_type": "code",
   "execution_count": null,
   "id": "7f585d68",
   "metadata": {},
   "outputs": [],
   "source": [
    "#### The end #####"
   ]
  }
 ],
 "metadata": {
  "kernelspec": {
   "display_name": "Python 3 (ipykernel)",
   "language": "python",
   "name": "python3"
  },
  "language_info": {
   "codemirror_mode": {
    "name": "ipython",
    "version": 3
   },
   "file_extension": ".py",
   "mimetype": "text/x-python",
   "name": "python",
   "nbconvert_exporter": "python",
   "pygments_lexer": "ipython3",
   "version": "3.10.8"
  }
 },
 "nbformat": 4,
 "nbformat_minor": 5
}
