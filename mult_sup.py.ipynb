{
 "cells": [
  {
   "cell_type": "code",
   "execution_count": null,
   "id": "1956c976",
   "metadata": {},
   "outputs": [],
   "source": [
    "def check_prime(number):\n",
    "#     number = 15\n",
    "    if number < 2:\n",
    "        print(f'{number} is not a prime number')\n",
    "    elif number == 2:\n",
    "        print('2 is prime number!!!')\n",
    "    elif number > 2:\n",
    "        for i in range(2, number):\n",
    "            if number%i ==0:\n",
    "                print(f'{number} is not a prime number')\n",
    "                break\n",
    "    else:\n",
    "        print(f'{number} is prime')"
   ]
  }
 ],
 "metadata": {
  "kernelspec": {
   "display_name": "Python 3 (ipykernel)",
   "language": "python",
   "name": "python3"
  },
  "language_info": {
   "codemirror_mode": {
    "name": "ipython",
    "version": 3
   },
   "file_extension": ".py",
   "mimetype": "text/x-python",
   "name": "python",
   "nbconvert_exporter": "python",
   "pygments_lexer": "ipython3",
   "version": "3.9.12"
  }
 },
 "nbformat": 4,
 "nbformat_minor": 5
}
