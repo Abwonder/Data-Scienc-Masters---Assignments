{
 "cells": [
  {
   "cell_type": "markdown",
   "id": "9da97d5f",
   "metadata": {},
   "source": [
    "## Exception Handling - 1"
   ]
  },
  {
   "cell_type": "markdown",
   "id": "6ec68608",
   "metadata": {},
   "source": [
    "Q1. What is an Exception in python? Write the difference between Exceptions and Syntax errors"
   ]
  },
  {
   "cell_type": "markdown",
   "id": "c469ec88",
   "metadata": {},
   "source": [
    "Exception in python is event that occurs during the running of a program which disrupt the flow of the program, it is raised when a running program encounter a situation it can not cope with, handle or execute based on it running model.\n",
    "\n",
    "Exceptions can be handled but syntax error cannot be handled. More so, exception are abnormal event that changes the normal or proposed designed running of a program but syntax error occurs when the structure of the program/code does not conform with the rule of the programming language and cannot be handle"
   ]
  },
  {
   "cell_type": "markdown",
   "id": "4ed5a176",
   "metadata": {},
   "source": [
    "### Question 2"
   ]
  },
  {
   "cell_type": "markdown",
   "id": "d3f1dba0",
   "metadata": {},
   "source": [
    "Q2. When an exception is not handle properly the code will produce error and stop. see example below:"
   ]
  },
  {
   "cell_type": "code",
   "execution_count": 1,
   "id": "d6a93c6a",
   "metadata": {},
   "outputs": [
    {
     "ename": "ZeroDivisionError",
     "evalue": "division by zero",
     "output_type": "error",
     "traceback": [
      "\u001b[1;31m---------------------------------------------------------------------------\u001b[0m",
      "\u001b[1;31mZeroDivisionError\u001b[0m                         Traceback (most recent call last)",
      "Input \u001b[1;32mIn [1]\u001b[0m, in \u001b[0;36m<cell line: 1>\u001b[1;34m()\u001b[0m\n\u001b[1;32m----> 1\u001b[0m \u001b[38;5;241;43m5\u001b[39;49m\u001b[38;5;241;43m/\u001b[39;49m\u001b[38;5;241;43m0\u001b[39;49m\n",
      "\u001b[1;31mZeroDivisionError\u001b[0m: division by zero"
     ]
    }
   ],
   "source": [
    "5/0  ## demonstrating zeroDivisionError raised"
   ]
  },
  {
   "cell_type": "code",
   "execution_count": 5,
   "id": "20327e8e",
   "metadata": {},
   "outputs": [
    {
     "name": "stdout",
     "output_type": "stream",
     "text": [
      "Without exception handling 'division by zero' error will display\n",
      "\n",
      "\n",
      "The last part of the code, proof that the cod did not stop!!!\n"
     ]
    }
   ],
   "source": [
    "## handling the error\n",
    "try:\n",
    "    m=5/0\n",
    "    print(m)\n",
    "    \n",
    "except Exception as e:\n",
    "    print(\"Without exception handling '{}' error will display\\n\\n\".format(e))\n",
    "    \n",
    "print(\"The last part of the code, proof that the cod did not stop!!!\")    "
   ]
  },
  {
   "cell_type": "markdown",
   "id": "f376ee96",
   "metadata": {},
   "source": [
    "Q3. Which Python statements are used to catch and handle exceptions? Explain with an example."
   ]
  },
  {
   "cell_type": "markdown",
   "id": "6e6215ca",
   "metadata": {},
   "source": [
    "Try: and except: code block is used to catch and handle exception in pytnon\n",
    "\n",
    "see below for example:"
   ]
  },
  {
   "cell_type": "code",
   "execution_count": 6,
   "id": "ab27d528",
   "metadata": {},
   "outputs": [
    {
     "name": "stdout",
     "output_type": "stream",
     "text": [
      "Without exception handling 'division by zero' error will display\n",
      "\n",
      "\n",
      "The last part of the code, proof that the cod did not stop!!!\n"
     ]
    }
   ],
   "source": [
    "## handling the error\n",
    "try:\n",
    "    m=5/0\n",
    "    print(m)\n",
    "    \n",
    "except Exception as e:\n",
    "    print(\"Without exception handling '{}' error will display\\n\\n\".format(e))\n",
    "    \n",
    "print(\"The last part of the code, proof the code worked!!!\") "
   ]
  },
  {
   "cell_type": "markdown",
   "id": "f09f5d19",
   "metadata": {},
   "source": [
    "Q4. Explain with an example:\n",
    " a. try and else\n",
    " b. finally\n",
    " c. raise"
   ]
  },
  {
   "cell_type": "code",
   "execution_count": 7,
   "id": "6e6f5151",
   "metadata": {},
   "outputs": [
    {
     "name": "stdout",
     "output_type": "stream",
     "text": [
      "The else block was executed also!!\n"
     ]
    }
   ],
   "source": [
    "## try and else: once the code line in try runs the else code will run\n",
    "# a.\n",
    "try:\n",
    "    f=open(\"Abioye001\", \"w\")\n",
    "    f.write(\"This is my first coding working with exception handling\")\n",
    "    \n",
    "except Exception as e:\n",
    "    print(e)\n",
    "    \n",
    "else:\n",
    "    f.close()  ## if the file is not closed it will not appear in my dir!\n",
    "    print(\"The else block was executed also!!\")\n",
    "    "
   ]
  },
  {
   "cell_type": "code",
   "execution_count": 9,
   "id": "9f7f4fcc",
   "metadata": {},
   "outputs": [
    {
     "name": "stdout",
     "output_type": "stream",
     "text": [
      "The last part of the code, proof the code worked!!!\n"
     ]
    },
    {
     "ename": "ZeroDivisionError",
     "evalue": "division by zero",
     "output_type": "error",
     "traceback": [
      "\u001b[1;31m---------------------------------------------------------------------------\u001b[0m",
      "\u001b[1;31mZeroDivisionError\u001b[0m                         Traceback (most recent call last)",
      "Input \u001b[1;32mIn [9]\u001b[0m, in \u001b[0;36m<cell line: 3>\u001b[1;34m()\u001b[0m\n\u001b[0;32m      1\u001b[0m \u001b[38;5;66;03m# finally block of code will work regardless of what happen at the try block code\u001b[39;00m\n\u001b[0;32m      2\u001b[0m \u001b[38;5;66;03m# b.\u001b[39;00m\n\u001b[0;32m      3\u001b[0m \u001b[38;5;28;01mtry\u001b[39;00m:\n\u001b[1;32m----> 4\u001b[0m     m\u001b[38;5;241m=\u001b[39m\u001b[38;5;241;43m5\u001b[39;49m\u001b[38;5;241;43m/\u001b[39;49m\u001b[38;5;241;43m0\u001b[39;49m\n\u001b[0;32m      5\u001b[0m     \u001b[38;5;28mprint\u001b[39m(m)\n\u001b[0;32m      7\u001b[0m \u001b[38;5;66;03m# except Exception as e:\u001b[39;00m\n\u001b[0;32m      8\u001b[0m \u001b[38;5;66;03m#     print(\"Without exception handling '{}' error will display\\n\\n\".format(e))\u001b[39;00m\n\u001b[0;32m      9\u001b[0m     \n\u001b[0;32m     10\u001b[0m \u001b[38;5;28;01mfinally\u001b[39;00m:\n",
      "\u001b[1;31mZeroDivisionError\u001b[0m: division by zero"
     ]
    }
   ],
   "source": [
    "# finally block of code will work regardless of what happen at the try block code\n",
    "# b.\n",
    "try:\n",
    "    m=5/0\n",
    "    print(m)\n",
    "    \n",
    "# except Exception as e:\n",
    "#     print(\"Without exception handling '{}' error will display\\n\\n\".format(e))\n",
    "    \n",
    "finally:\n",
    "    print(\"The last part of the code, proof the code worked!!!\") \n",
    "## last part of the code runs regardless of the error\n",
    "\n",
    "\n"
   ]
  },
  {
   "cell_type": "code",
   "execution_count": 10,
   "id": "e2ebb022",
   "metadata": {},
   "outputs": [
    {
     "name": "stdout",
     "output_type": "stream",
     "text": [
      "Enter your age: 12\n"
     ]
    },
    {
     "ename": "Exception",
     "evalue": "Sorry, only number/integer number below zero!!!",
     "output_type": "error",
     "traceback": [
      "\u001b[1;31m---------------------------------------------------------------------------\u001b[0m",
      "\u001b[1;31mException\u001b[0m                                 Traceback (most recent call last)",
      "Input \u001b[1;32mIn [10]\u001b[0m, in \u001b[0;36m<cell line: 6>\u001b[1;34m()\u001b[0m\n\u001b[0;32m      4\u001b[0m x \u001b[38;5;241m=\u001b[39m \u001b[38;5;28minput\u001b[39m(\u001b[38;5;124m\"\u001b[39m\u001b[38;5;124mEnter your age: \u001b[39m\u001b[38;5;124m\"\u001b[39m)\n\u001b[0;32m      6\u001b[0m \u001b[38;5;28;01mif\u001b[39;00m \u001b[38;5;28mtype\u001b[39m(x) \u001b[38;5;241m!=\u001b[39m \u001b[38;5;28mint\u001b[39m:\n\u001b[1;32m----> 7\u001b[0m   \u001b[38;5;28;01mraise\u001b[39;00m \u001b[38;5;167;01mException\u001b[39;00m(\u001b[38;5;124m\"\u001b[39m\u001b[38;5;124mSorry, only number/integer number below zero!!!\u001b[39m\u001b[38;5;124m\"\u001b[39m)\n",
      "\u001b[1;31mException\u001b[0m: Sorry, only number/integer number below zero!!!"
     ]
    }
   ],
   "source": [
    "## using raise output exception error message \n",
    "# c.\n",
    "\n",
    "x = input(\"Enter your age: \")\n",
    "\n",
    "if type(x) != int:\n",
    "  raise Exception(\"Sorry, only number/integer number below zero!!!\")"
   ]
  },
  {
   "cell_type": "code",
   "execution_count": 11,
   "id": "faec1271",
   "metadata": {},
   "outputs": [
    {
     "name": "stdout",
     "output_type": "stream",
     "text": [
      "Enter your age: 24\n"
     ]
    }
   ],
   "source": [
    "## when code runs normally\n",
    "## using raise output exception error message \n",
    "# c.\n",
    "\n",
    "x = int(input(\"Enter your age: \"))\n",
    "\n",
    "if type(x) != int:\n",
    "  raise Exception(\"Sorry, only number/integer number below zero!!!\")"
   ]
  },
  {
   "cell_type": "code",
   "execution_count": 12,
   "id": "d0384693",
   "metadata": {},
   "outputs": [
    {
     "data": {
      "text/plain": [
       "24"
      ]
     },
     "execution_count": 12,
     "metadata": {},
     "output_type": "execute_result"
    }
   ],
   "source": [
    "x   #output when it runs smoothly!!!"
   ]
  },
  {
   "cell_type": "markdown",
   "id": "847aecf9",
   "metadata": {},
   "source": [
    "### Quetions 5"
   ]
  },
  {
   "cell_type": "markdown",
   "id": "532e6a18",
   "metadata": {},
   "source": [
    "Q5. what are Custom Exceptions in python? why do we need Custom Exceptions? Explain with and example.\n",
    "\n",
    "Custom exception in python is a way to for user to create user_define exceptions to suite their need in combination with in-built exception capabilities in python.\n",
    "\n",
    "We need custom exceptions to be able to creat exception base on our needs and define the error message we want to output for better understanding of the internal working of the code at all time.\n"
   ]
  },
  {
   "cell_type": "code",
   "execution_count": 18,
   "id": "cc705ff2",
   "metadata": {},
   "outputs": [
    {
     "name": "stdout",
     "output_type": "stream",
     "text": [
      "Check if you are eligible, what is your age? 12\n",
      "\n",
      "\n",
      "You Can't get loan\n"
     ]
    }
   ],
   "source": [
    "## Example\n",
    "\n",
    "class CustomLoanAgeCheck(Exception):\n",
    "    ## this will be raised when the age for loan application is not met\n",
    "    pass\n",
    "\n",
    "Ask_age = int(input(\"Check if you are eligible, what is your age? \"))\n",
    "\n",
    "try:\n",
    "    fixAge_min = 19\n",
    "    fixAge_max = 35 \n",
    "    if  (Ask_age >= fixAge_min) and (Ask_age <= fixAge_max):\n",
    "        print(\"You are eligible to get the loan, congratulation\")\n",
    "    else:\n",
    "        raise CustomLoanAgeCheck(\"\\n\\nYou Can't get loan\")\n",
    "        \n",
    "except CustomLoanAgeCheck as cl:\n",
    "    print(cl)\n",
    "    \n"
   ]
  },
  {
   "cell_type": "markdown",
   "id": "7b8c40e5",
   "metadata": {},
   "source": [
    "### Question 6"
   ]
  },
  {
   "cell_type": "markdown",
   "id": "b08fd09f",
   "metadata": {},
   "source": [
    "Q6. Create a custom exception class. Use this class to handle and exception."
   ]
  },
  {
   "cell_type": "code",
   "execution_count": 19,
   "id": "a6fd6641",
   "metadata": {},
   "outputs": [],
   "source": [
    "##\n",
    "class custom_balanceWithrawal(Exception):\n",
    "    def __init__(self, msg):\n",
    "        self.msg = msg\n",
    "        \n",
    "def check_amount(amount):\n",
    "    fix_amount = 5000\n",
    "    if fix_amount - amount < 0:\n",
    "        raise custom_balanceWithrawal(\"Erro!!!!, it is more that your limit\")\n",
    "    else:\n",
    "        print(\"You can make withdrawal\")\n",
    "        \n",
    "\n"
   ]
  },
  {
   "cell_type": "code",
   "execution_count": 21,
   "id": "d2519f4b",
   "metadata": {},
   "outputs": [
    {
     "ename": "custom_balanceWithrawal",
     "evalue": "Erro!!!!, it is more that your limit",
     "output_type": "error",
     "traceback": [
      "\u001b[1;31m---------------------------------------------------------------------------\u001b[0m",
      "\u001b[1;31mcustom_balanceWithrawal\u001b[0m                   Traceback (most recent call last)",
      "Input \u001b[1;32mIn [21]\u001b[0m, in \u001b[0;36m<cell line: 1>\u001b[1;34m()\u001b[0m\n\u001b[1;32m----> 1\u001b[0m \u001b[43mcheck_amount\u001b[49m\u001b[43m(\u001b[49m\u001b[38;5;241;43m6000\u001b[39;49m\u001b[43m)\u001b[49m\n",
      "Input \u001b[1;32mIn [19]\u001b[0m, in \u001b[0;36mcheck_amount\u001b[1;34m(amount)\u001b[0m\n\u001b[0;32m      7\u001b[0m fix_amount \u001b[38;5;241m=\u001b[39m \u001b[38;5;241m5000\u001b[39m\n\u001b[0;32m      8\u001b[0m \u001b[38;5;28;01mif\u001b[39;00m fix_amount \u001b[38;5;241m-\u001b[39m amount \u001b[38;5;241m<\u001b[39m \u001b[38;5;241m0\u001b[39m:\n\u001b[1;32m----> 9\u001b[0m     \u001b[38;5;28;01mraise\u001b[39;00m custom_balanceWithrawal(\u001b[38;5;124m\"\u001b[39m\u001b[38;5;124mErro!!!!, it is more that your limit\u001b[39m\u001b[38;5;124m\"\u001b[39m)\n\u001b[0;32m     10\u001b[0m \u001b[38;5;28;01melse\u001b[39;00m:\n\u001b[0;32m     11\u001b[0m     \u001b[38;5;28mprint\u001b[39m(\u001b[38;5;124m\"\u001b[39m\u001b[38;5;124mYou can make withdrawal\u001b[39m\u001b[38;5;124m\"\u001b[39m)\n",
      "\u001b[1;31mcustom_balanceWithrawal\u001b[0m: Erro!!!!, it is more that your limit"
     ]
    }
   ],
   "source": [
    "check_amount(6000)"
   ]
  },
  {
   "cell_type": "code",
   "execution_count": 27,
   "id": "d61d6cf5",
   "metadata": {},
   "outputs": [],
   "source": [
    "## The handling\n",
    "def check_amount(amount):\n",
    "    try:\n",
    "        fix_amount = 5000\n",
    "        if fix_amount - amount < 0:\n",
    "            raise custom_balanceWithrawal(\"Erro!!!!, it is more that your limit\")\n",
    "        else:\n",
    "            print(\"You can make withdrawal\")\n",
    "    except custom_balanceWithrawal as c:\n",
    "        print(\"An error occured internally\", c)\n",
    "\n",
    "    print(\"\\nWe got to the last line of code!!!, Error handled. congratulations\")"
   ]
  },
  {
   "cell_type": "code",
   "execution_count": 28,
   "id": "168d0a4d",
   "metadata": {},
   "outputs": [
    {
     "name": "stdout",
     "output_type": "stream",
     "text": [
      "An error occured internally Erro!!!!, it is more that your limit\n",
      "\n",
      "We got to the last line of code!!!, Error handled. congratulations\n"
     ]
    }
   ],
   "source": [
    "check_amount(6000)"
   ]
  },
  {
   "cell_type": "code",
   "execution_count": null,
   "id": "6f59ca94",
   "metadata": {},
   "outputs": [],
   "source": []
  }
 ],
 "metadata": {
  "kernelspec": {
   "display_name": "Python 3 (ipykernel)",
   "language": "python",
   "name": "python3"
  },
  "language_info": {
   "codemirror_mode": {
    "name": "ipython",
    "version": 3
   },
   "file_extension": ".py",
   "mimetype": "text/x-python",
   "name": "python",
   "nbconvert_exporter": "python",
   "pygments_lexer": "ipython3",
   "version": "3.9.12"
  }
 },
 "nbformat": 4,
 "nbformat_minor": 5
}
