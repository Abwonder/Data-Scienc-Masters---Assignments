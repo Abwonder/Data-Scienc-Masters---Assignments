{
 "cells": [
  {
   "cell_type": "markdown",
   "id": "08d53206-3798-4ae0-98d9-e5083218ff61",
   "metadata": {},
   "source": [
    "## Question1\n",
    "   * 1. They can be indexed\n",
    "   * 2. They are ordered\n",
    "   * 3. They can contain duplicate items \n",
    "   * 4. They are immutable"
   ]
  },
  {
   "cell_type": "markdown",
   "id": "dc7dafc4-2af4-4422-8824-80f2b132c3a5",
   "metadata": {},
   "source": [
    "## Question2\n",
    "The two methods of tuple are:\n",
    "* a. count()\n",
    "* b. index()"
   ]
  },
  {
   "cell_type": "code",
   "execution_count": 51,
   "id": "f9712ec4-6278-4349-b530-042c5c386f32",
   "metadata": {},
   "outputs": [
    {
     "name": "stdout",
     "output_type": "stream",
     "text": [
      "3\n",
      "2\n"
     ]
    }
   ],
   "source": [
    "##Example to show the above mentionded methods\n",
    "tup = (\"Abioye\", \"Oyatoye\", \"Data\", \"Science\", 1, 2, 3, \"Data\", \"Data\")\n",
    "## use case for count\n",
    "print(tup.count(\"Data\"))  ## output number of time an item occur in tuple\n",
    "\n",
    "# use case for index\n",
    "print(tup.index(\"Data\"))  ## index of the first instance of the string\n",
    "\n",
    "# It is because tuple is ordered and unchangeable(immutable) that is why their use case is to store data that would not be changed\n"
   ]
  },
  {
   "cell_type": "markdown",
   "id": "89e9cd38-62c2-434a-9217-393ad958cdb5",
   "metadata": {},
   "source": [
    "## Question3\n",
    "\n",
    "Set, does not accept duplicate"
   ]
  },
  {
   "cell_type": "code",
   "execution_count": null,
   "id": "3169703e-4966-4d48-9d09-2275687c0f77",
   "metadata": {},
   "outputs": [],
   "source": [
    "list=[1,1,12,1,3,1,4,2,1,2,2,2,3,2,4,3,1,3,2,3,3,3,4,4,1,4,2,4,3,4,4]\n",
    "\n",
    "to_set = set(list)\n",
    "print(to_set)\n"
   ]
  },
  {
   "cell_type": "markdown",
   "id": "696bd7dc-2d84-484d-be7c-bc24a77d564d",
   "metadata": {},
   "source": [
    "## Question4\n",
    "\n",
    "Union() method produce a new set containing all elements in both sets while Update() method add all the element in setb to seta permanently.\n",
    "See examples below:"
   ]
  },
  {
   "cell_type": "code",
   "execution_count": 46,
   "id": "9b08deb3-0db6-435d-b10e-90037832aa5a",
   "metadata": {},
   "outputs": [],
   "source": [
    "seta = {\"abioye\", \"elijah\", \"monday\",4,8}\n",
    "setb = {\"house\", \"mansion\", \"village\", (1,2,4,5,\"manod\")}"
   ]
  },
  {
   "cell_type": "code",
   "execution_count": 47,
   "id": "da399273-a4c9-43d6-a583-4d7d4b0a4542",
   "metadata": {},
   "outputs": [
    {
     "data": {
      "text/plain": [
       "{(1, 2, 4, 5, 'manod'),\n",
       " 4,\n",
       " 8,\n",
       " 'abioye',\n",
       " 'elijah',\n",
       " 'house',\n",
       " 'mansion',\n",
       " 'monday',\n",
       " 'village'}"
      ]
     },
     "execution_count": 47,
     "metadata": {},
     "output_type": "execute_result"
    }
   ],
   "source": [
    "seta.union(setb) ##it add the other set without conversion"
   ]
  },
  {
   "cell_type": "code",
   "execution_count": 48,
   "id": "5d4d3c31-2e47-4604-84e8-ee9725110bcb",
   "metadata": {},
   "outputs": [
    {
     "data": {
      "text/plain": [
       "{4, 8, 'abioye', 'elijah', 'monday'}"
      ]
     },
     "execution_count": 48,
     "metadata": {},
     "output_type": "execute_result"
    }
   ],
   "source": [
    "seta  ## to confirm the elment where not permanently added"
   ]
  },
  {
   "cell_type": "code",
   "execution_count": 49,
   "id": "b77ee0c9-a0e3-4d3e-b3de-b3ccd92aae84",
   "metadata": {},
   "outputs": [],
   "source": [
    "seta.update(setb)"
   ]
  },
  {
   "cell_type": "code",
   "execution_count": 50,
   "id": "4dff308f-b455-4660-bd9d-3f26df52807f",
   "metadata": {},
   "outputs": [
    {
     "data": {
      "text/plain": [
       "{(1, 2, 4, 5, 'manod'),\n",
       " 4,\n",
       " 8,\n",
       " 'abioye',\n",
       " 'elijah',\n",
       " 'house',\n",
       " 'mansion',\n",
       " 'monday',\n",
       " 'village'}"
      ]
     },
     "execution_count": 50,
     "metadata": {},
     "output_type": "execute_result"
    }
   ],
   "source": [
    "seta  ##for update() method"
   ]
  },
  {
   "cell_type": "markdown",
   "id": "4e04b750-3b21-44c4-b636-a2063130cadb",
   "metadata": {},
   "source": [
    "## Question 5\n",
    "\n",
    "Dictionary is python container use for storing data paired with unique keys which standands as identifiers for the stored data. Dictionary is mutable and ordered."
   ]
  },
  {
   "cell_type": "code",
   "execution_count": 54,
   "id": "5ac558f6-8f93-4052-9b4f-57b5ea47170a",
   "metadata": {},
   "outputs": [
    {
     "name": "stdout",
     "output_type": "stream",
     "text": [
      "{'book': 'the white lotus', 'bestplayer': 'messi', 'motivational': 'Ronaldo', 'room': 38}\n"
     ]
    }
   ],
   "source": [
    "## An exomple of dictionary\n",
    "dict1 = {\"book\": \"the white lotus\", \"bestplayer\": \"messi\", \"motivational\": \"Ronaldo\", \"room\": 38}\n",
    "print(dict1)"
   ]
  },
  {
   "cell_type": "markdown",
   "id": "67fec9ee-a514-46c9-bb4c-4794cc040ab8",
   "metadata": {},
   "source": [
    "## Question 6\n",
    "Yes, we can create nested dictionary"
   ]
  },
  {
   "cell_type": "code",
   "execution_count": 55,
   "id": "9c30d4d1-14fd-402e-9610-02a9fc4ac9f1",
   "metadata": {},
   "outputs": [],
   "source": [
    "##One level nested dictionary\n",
    "dict2 = {\"book\": \"the white lotus\", \"football\":{\"bestplayer\": \"messi\", \"motivational\": \"Ronaldo\", \"room\": 38}}"
   ]
  },
  {
   "cell_type": "code",
   "execution_count": 58,
   "id": "4d825b8b-ff9a-4b4d-8c15-22d260e2b5fb",
   "metadata": {},
   "outputs": [
    {
     "data": {
      "text/plain": [
       "'messi'"
      ]
     },
     "execution_count": 58,
     "metadata": {},
     "output_type": "execute_result"
    }
   ],
   "source": [
    "dict2[\"football\"][\"bestplayer\"]  ## stepped into the dictionary one by one"
   ]
  },
  {
   "cell_type": "markdown",
   "id": "27baf8bd-48c3-4781-8081-58dc51ee1a3e",
   "metadata": {},
   "source": [
    "## Question 7"
   ]
  },
  {
   "cell_type": "code",
   "execution_count": 65,
   "id": "86c16cb1-0f6b-4192-a7f3-c37c18eef6e4",
   "metadata": {},
   "outputs": [],
   "source": [
    "dict1 = {\"language\": \"Python\", \"course\":\"Data Science Masters\"}"
   ]
  },
  {
   "cell_type": "code",
   "execution_count": 66,
   "id": "56b161f9-897a-4842-8000-eb097359b385",
   "metadata": {},
   "outputs": [
    {
     "data": {
      "text/plain": [
       "['Python', 'Machine Learning', 'Deep Learning']"
      ]
     },
     "execution_count": 66,
     "metadata": {},
     "output_type": "execute_result"
    }
   ],
   "source": [
    "dict1.setdefault(\"topics\", [\"Python\", \"Machine Learning\", \"Deep Learning\"])"
   ]
  },
  {
   "cell_type": "code",
   "execution_count": 67,
   "id": "c04b88d6-6bd7-40dd-a099-5f670d1f3bdb",
   "metadata": {},
   "outputs": [
    {
     "data": {
      "text/plain": [
       "{'language': 'Python',\n",
       " 'course': 'Data Science Masters',\n",
       " 'topics': ['Python', 'Machine Learning', 'Deep Learning']}"
      ]
     },
     "execution_count": 67,
     "metadata": {},
     "output_type": "execute_result"
    }
   ],
   "source": [
    "dict1"
   ]
  },
  {
   "cell_type": "markdown",
   "id": "d4f9687f-98b9-4c9c-a6f4-b175a6cc6db5",
   "metadata": {},
   "source": [
    "## Questioin 8"
   ]
  },
  {
   "cell_type": "code",
   "execution_count": 68,
   "id": "d45efa9e-3445-48db-be5e-6c969cf9d93b",
   "metadata": {},
   "outputs": [],
   "source": [
    "## three method of viewing!!!!\n",
    "dict1 = {'Sport': \"Cricket\", \"Teams\": ['India', 'England', 'South Africa', 'Sri Lanka', 'New Zealand']}"
   ]
  },
  {
   "cell_type": "code",
   "execution_count": 69,
   "id": "9efb6155-6623-47e9-900b-5658ec12e882",
   "metadata": {},
   "outputs": [
    {
     "data": {
      "text/plain": [
       "dict_keys(['Sport', 'Teams'])"
      ]
     },
     "execution_count": 69,
     "metadata": {},
     "output_type": "execute_result"
    }
   ],
   "source": [
    "dict1.keys() ## method 1 to veiw keys"
   ]
  },
  {
   "cell_type": "code",
   "execution_count": 71,
   "id": "0b5f6db8-c6bb-48d1-832f-f239950a183a",
   "metadata": {},
   "outputs": [
    {
     "data": {
      "text/plain": [
       "dict_items([('Sport', 'Cricket'), ('Teams', ['India', 'England', 'South Africa', 'Sri Lanka', 'New Zealand'])])"
      ]
     },
     "execution_count": 71,
     "metadata": {},
     "output_type": "execute_result"
    }
   ],
   "source": [
    "dict1.items()"
   ]
  },
  {
   "cell_type": "code",
   "execution_count": 73,
   "id": "90a82250-f16e-4eb5-8c78-ffe44da7008b",
   "metadata": {},
   "outputs": [
    {
     "data": {
      "text/plain": [
       "'Cricket'"
      ]
     },
     "execution_count": 73,
     "metadata": {},
     "output_type": "execute_result"
    }
   ],
   "source": [
    "dict1.get('Sport')"
   ]
  }
 ],
 "metadata": {
  "kernelspec": {
   "display_name": "Python 3 (ipykernel)",
   "language": "python",
   "name": "python3"
  },
  "language_info": {
   "codemirror_mode": {
    "name": "ipython",
    "version": 3
   },
   "file_extension": ".py",
   "mimetype": "text/x-python",
   "name": "python",
   "nbconvert_exporter": "python",
   "pygments_lexer": "ipython3",
   "version": "3.10.8"
  }
 },
 "nbformat": 4,
 "nbformat_minor": 5
}
