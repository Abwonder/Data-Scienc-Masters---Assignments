{
 "cells": [
  {
   "cell_type": "markdown",
   "id": "ce9273b7",
   "metadata": {},
   "source": [
    "## Assignment"
   ]
  },
  {
   "cell_type": "markdown",
   "id": "c7ca1f3a",
   "metadata": {},
   "source": [
    "### Question 1"
   ]
  },
  {
   "cell_type": "markdown",
   "id": "976378b2",
   "metadata": {},
   "source": [
    "Q1. What is a database? Differentiate between SQL and NoSQL databases.\n",
    "\n",
    "Database can be defined as an organized collection of structured information, or data, typically stored electronically in a computer system, and its is usually controlled by a database management system (DBMS). Thus, put together; the data and the DBMS, along with the applications that are associated with them, are referred to as a database system, often shortened to just database.\n",
    "\n",
    "SQL is a programming language used by nearly all relational databases to query, manipulate, and define data, and to provide access control.\n",
    "\n",
    "while NoSQL is a nonrelational database that allows unstructured and semistructured data to be stored and manipulated (in contrast to a relational database, which defines how all data inserted into the database must be composed). The growth of application couple with more complexity offered NoSQL popularity in the era."
   ]
  },
  {
   "cell_type": "markdown",
   "id": "9e92bccd",
   "metadata": {},
   "source": [
    "### Question 2\n",
    "\n",
    "Q2. What is DDL? Explain why CREATE, DROP, ALTER, and TRUNCATE are used with an example.\n",
    "\n",
    "DDL referred toa data definition language is a computer language used to create and modify the structure of database objects in a database.\n",
    "\n",
    "Create ==> This command builds a new table and has a predefined syntax. The CREATE statement syntax is\n",
    "*    CREATE TABLE if not exists test01.table_no1(c1 INT, c2 VARCHAR(40), c3 FLOAT, c4 VARCHAR(20), c5 INT);\n",
    "    \n",
    "Drop ==> A drop command is used to delete objects such as a table, index or view. A DROP statement cannot be rolled back, so once an object is destroyed, there’s no way to recover it. Drop statement syntax is:\n",
    "*    DROP test01 table_no1;\n",
    "    \n",
    "Alter ==> An alter command modifies an existing database table. This command can add up additional column, drop existing columns and even change the data type of columns involved in a database table. An alter command syntax is:\n",
    "*    ALTER test01 table_no1 ADD PRIMARY KEY (c1);\n",
    "    \n",
    "Truncate ==> Similar to DROP, the TRUNCATE statement is used to quickly remove all records from a table. However, unlike DROP that completely destroys a table, TRUNCATE preserves its full structure to be reused later. Truncate statement syntax is:\n",
    "*    TRUNCATE test01 table_no1;"
   ]
  },
  {
   "cell_type": "markdown",
   "id": "0e8e7812",
   "metadata": {},
   "source": [
    "### Question 3\n",
    "Q3. What is DML? Explain INSERT, UPDATE, and DELETE with an example.\n",
    "\n",
    "DML means data manipulation language (DML) which is a family of computer languages including commands permitting users to manipulate data in a database. This manipulation involves inserting data into database tables, retrieving existing data, deleting data from existing tables and modifying existing data. DML is mostly incorporated in SQL databases.\n",
    "\n",
    "SELECT: This command is used to retrieve rows from a table. The syntax is:\n",
    "*   SELECT [column name(s)] from [table name] where [conditions]. SELECT is the most widely used DML command in SQL.\n",
    "*   SELECT c1 FROM tabel_no1 WHERE c1>2;\n",
    "\n",
    "UPDATE: This command modifies data of one or more records. An update command syntax is:\n",
    "*   UPDATE [table name] SET [column name = value] where [condition];\n",
    "*   UPDATE table_no1 SET c1 = 3 WHERE c2 = \"YINKA\";\n",
    "\n",
    "NSERT: This command adds one or more records to a database table. The insert command syntax is:\n",
    "*   INSERT INTO [table name] [column(s)] VALUES [value(s)];\n",
    "*   INSERT INTO test01.table_no1 VALUES(40, 'YINKA', 3.14, 'GBADAMOSI', 1000);\n",
    "\n",
    "DELETE: This command removes one or more records from a table according to specified conditions. Delete command syntax is: \n",
    "*    DELETE FROM [table name] where [condition];\n",
    "*    DELETE FROM test01 WHERE c1 = 4;"
   ]
  },
  {
   "cell_type": "markdown",
   "id": "9d2705c7",
   "metadata": {},
   "source": [
    "### Question 4\n",
    "\n",
    "Q4. What is DQL? Explain SELECT with an example.\n",
    "The DQL mean data query language statements can be used in order to query the data and information contained in schema objects. The goal of the DQL Commands is to return a schema relation on the basis of the query supplied to them.\n",
    "SELECT command to extract data from a database in order to perform actions on it. The syntax is:\n",
    "*  SELECT c1 FROM test01 WHERE c2 = \"YINKA\";"
   ]
  },
  {
   "cell_type": "markdown",
   "id": "3e623414",
   "metadata": {},
   "source": [
    "### Question 5\n",
    "\n",
    "Q5. Explain Primary Key and Foreign Key.\n",
    "\n",
    "A primary key generally focuses on the uniqueness of the table. It is a column or a set of columns that uniquely distinguishes every row in the database. It means it should not have any duplicate value. Also, it doesn’t contain a NULL value.\n",
    "\n",
    "while foreign key is generally used to build a relationship between the two tables. The major purpose of the foreign key is to sustain data integrity between two separate instances of an entity.\n"
   ]
  },
  {
   "cell_type": "markdown",
   "id": "6e9265f3",
   "metadata": {},
   "source": [
    "### Question 6\n",
    "\n",
    "Q6. Write a python code to connect MySQL to python. Explain the cursor() and execute() method.\n"
   ]
  },
  {
   "cell_type": "markdown",
   "id": "6fbc1e3c",
   "metadata": {},
   "source": [
    "import mysql.connector\n",
    "\n",
    "mydb = mysql.connector.connect(\n",
    "  host=\"localhost\",\n",
    "  user=\"abc\",\n",
    "  password=\"password\"\n",
    ")\n",
    "\n",
    "mycursor = mydb.cursor()\n",
    "mycursor.execute(\"CREATE DATABASE if not exists test01\")\n",
    "mycursor.execute(\"CREATE TABLE if not exists test01.table_no1(c1 INT, c2 VARCHAR(40), c3 FLOAT, c4 VARCHAR(20), c5 INT)\")\n",
    "mydb.close()\n"
   ]
  },
  {
   "cell_type": "markdown",
   "id": "aa180512",
   "metadata": {},
   "source": [
    "cursor() method helps to execute the query and fetch the records from the database. The cursor plays a very important role in executing the query. \n",
    "\n",
    "execute() method executes the given database operation (query or command). The parameters found in the tuple or dictionary params are bound to the variables in the operation."
   ]
  },
  {
   "cell_type": "markdown",
   "id": "17dba9de",
   "metadata": {},
   "source": [
    "Q1. What is a database? Differentiate between SQL and NoSQL databases.\n",
    "\n",
    "Q3. What is DML? Explain INSERT, UPDATE, and DELETE with an example.\n",
    "Q4. What is DQL? Explain SELECT with an example.\n",
    "Q5. Explain Primary Key and Foreign Key.\n",
    "Q6. Write a python code to connect MySQL to python. Explain the cursor() and execute() method.\n",
    "Q7. Give the order of execution of SQL clauses in an SQL query."
   ]
  },
  {
   "cell_type": "markdown",
   "id": "fbad92cd",
   "metadata": {},
   "source": [
    "### Question 7\n",
    "\n",
    "Q7. Give the order of execution of SQL clauses in an SQL query.\n",
    "\n",
    "The SQL order of execution defines the order in which the clauses of a query are evaluated. Some of the most common query challenges people run into could be easily avoided with a clearer understanding of the SQL order of execution, sometimes called the SQL order of operations. Understanding SQL query order can help you diagnose why a query won’t run, and even more frequently will help you optimize your queries to run faster.\n",
    "\n",
    "Below it the order of execution of SQL Clauses:\n",
    "\n",
    "            FROM\n",
    "            WHERE\n",
    "            GROUP BY\n",
    "            HAVING\n",
    "            SELECT\n",
    "            ORDER BY\n",
    "            LIMIT\n"
   ]
  },
  {
   "cell_type": "code",
   "execution_count": null,
   "id": "a61aaacf",
   "metadata": {},
   "outputs": [],
   "source": [
    "#### THE END #####"
   ]
  }
 ],
 "metadata": {
  "kernelspec": {
   "display_name": "Python 3 (ipykernel)",
   "language": "python",
   "name": "python3"
  },
  "language_info": {
   "codemirror_mode": {
    "name": "ipython",
    "version": 3
   },
   "file_extension": ".py",
   "mimetype": "text/x-python",
   "name": "python",
   "nbconvert_exporter": "python",
   "pygments_lexer": "ipython3",
   "version": "3.9.12"
  }
 },
 "nbformat": 4,
 "nbformat_minor": 5
}
