{
 "cells": [
  {
   "cell_type": "markdown",
   "id": "fd744454",
   "metadata": {},
   "source": [
    "## Assignment __ Multiprocessing "
   ]
  },
  {
   "cell_type": "markdown",
   "id": "3bbf86c0",
   "metadata": {},
   "source": [
    "### Question 1\n",
    "Q1. What is multiprocessing in python? Why is it useful?\n",
    "\n",
    "Multiprocessing refers to the ability of a system to support more than one processor at the same time. Applications in a multiprocessing system are broken to smaller routines that run independently. it connote running operation in parallel and most useful for operation that require more processing computational power.\n",
    "\n",
    "The primary advantage of a multiprocessor computer is speed, and thus the ability to manage larger amounts of information, it is useful for running operation that require high computational power where task can be delegated to different processor and they run independent of one another. Its improve the speed of running programs."
   ]
  },
  {
   "cell_type": "markdown",
   "id": "cc8ccd9e",
   "metadata": {},
   "source": [
    "### Question 2\n",
    "\n",
    "Q2. What are the differences between multiprocessing and multithreading?\n",
    "\n",
    "Below are the differences between them:\n",
    "\n",
    "1. In Multiprocessing, Many processes are executed simultaneously while in multithreading, many threads of a process are executed simultaneously.\n",
    "2. Multiprocessing are classified into Symmetric and Asymmetric while Multithreading is not classified in any categories.\n",
    "3. In Multiprocessing, Process creation is a time-consuming process while in Multithreading, process creation is according to economical.\n",
    "4. In Multiprocessing, every process owned a separate address space while in Multithreading, a common address space is shared by all the threads.\n",
    "5. \tIn Multiprocessing, CPUs are added for increasing computing power while In Multithreading, many threads are created of a single process for increasing computing power."
   ]
  },
  {
   "cell_type": "markdown",
   "id": "2cdfb2b1",
   "metadata": {},
   "source": [
    "### Question 3\n",
    "Q3. Write a python code to create a process using the multiprocessing module."
   ]
  },
  {
   "cell_type": "code",
   "execution_count": 42,
   "id": "2a346d03",
   "metadata": {},
   "outputs": [
    {
     "ename": "TypeError",
     "evalue": "check_prime() missing 1 required positional argument: 'number'",
     "output_type": "error",
     "traceback": [
      "\u001b[1;31m---------------------------------------------------------------------------\u001b[0m",
      "\u001b[1;31mTypeError\u001b[0m                                 Traceback (most recent call last)",
      "Input \u001b[1;32mIn [42]\u001b[0m, in \u001b[0;36m<cell line: 19>\u001b[1;34m()\u001b[0m\n\u001b[0;32m     17\u001b[0m     \u001b[38;5;28;01melse\u001b[39;00m:\n\u001b[0;32m     18\u001b[0m         \u001b[38;5;28mprint\u001b[39m(\u001b[38;5;124mf\u001b[39m\u001b[38;5;124m'\u001b[39m\u001b[38;5;132;01m{\u001b[39;00mnumber\u001b[38;5;132;01m}\u001b[39;00m\u001b[38;5;124m is prime\u001b[39m\u001b[38;5;124m'\u001b[39m)\n\u001b[1;32m---> 19\u001b[0m \u001b[43mcheck_prime\u001b[49m\u001b[43m(\u001b[49m\u001b[43m)\u001b[49m\n",
      "\u001b[1;31mTypeError\u001b[0m: check_prime() missing 1 required positional argument: 'number'"
     ]
    }
   ],
   "source": [
    "##\n",
    "import multiprocessing\n",
    "\n",
    "import math\n",
    "\n",
    "def check_prime():\n",
    "    number = 15\n",
    "    if number < 2:\n",
    "        print(f'{number} is not a prime number')\n",
    "    elif number == 2:\n",
    "        print('2 is prime number!!!')\n",
    "    elif number > 2:\n",
    "        for i in range(2, number):\n",
    "            if number%i ==0:\n",
    "                print(f'{number} is not a prime number')\n",
    "                break\n",
    "    else:\n",
    "        print(f'{number} is prime')\n",
    "check_prime()\n",
    "\n",
    "# p1 = multiprocessing.Process(target=check_prime)\n",
    "\n",
    "\n",
    "# ## this invoke child function to run\n",
    "# # if __name__ == \"__main__\":  ##invoke python main module, import to use when running program on window OS\n",
    "# m = multiprocessing.Process(target=check_prime, args=(15,)) ## this command initiate the process\n",
    "# # print(\"this is my main prod\")  ## runs this first then runs the parentfunc\n",
    "# m.start()  ## starts the threading\n",
    "# m.join()  ## close it when done and merge to the parent processes\n",
    "# #     print(m)"
   ]
  },
  {
   "cell_type": "code",
   "execution_count": null,
   "id": "930bdd6c",
   "metadata": {},
   "outputs": [],
   "source": []
  },
  {
   "cell_type": "code",
   "execution_count": null,
   "id": "927a18ce",
   "metadata": {},
   "outputs": [],
   "source": []
  },
  {
   "cell_type": "code",
   "execution_count": null,
   "id": "9b19ad60",
   "metadata": {},
   "outputs": [],
   "source": []
  },
  {
   "cell_type": "code",
   "execution_count": null,
   "id": "978bb60a",
   "metadata": {},
   "outputs": [],
   "source": []
  },
  {
   "cell_type": "code",
   "execution_count": null,
   "id": "bfb1faa9",
   "metadata": {},
   "outputs": [],
   "source": []
  },
  {
   "cell_type": "code",
   "execution_count": null,
   "id": "b10e8518",
   "metadata": {},
   "outputs": [],
   "source": []
  },
  {
   "cell_type": "code",
   "execution_count": null,
   "id": "5b0e627c",
   "metadata": {},
   "outputs": [],
   "source": []
  },
  {
   "cell_type": "markdown",
   "id": "b2132213",
   "metadata": {},
   "source": [
    "\n",
    "\n",
    "\n",
    "Q4. What is a multiprocessing pool in python? Why is it used?\n",
    "Q5. How can we create a pool of worker processes in python using the multiprocessing module?\n",
    "Q6. Write a python program to create 4 processes, each process should print a different number using the\n",
    "multiprocessing module in python."
   ]
  },
  {
   "cell_type": "code",
   "execution_count": null,
   "id": "75adfe84",
   "metadata": {},
   "outputs": [],
   "source": []
  },
  {
   "cell_type": "code",
   "execution_count": null,
   "id": "f5b36f59",
   "metadata": {},
   "outputs": [],
   "source": []
  },
  {
   "cell_type": "code",
   "execution_count": null,
   "id": "46472a8f",
   "metadata": {},
   "outputs": [],
   "source": []
  },
  {
   "cell_type": "code",
   "execution_count": null,
   "id": "10841ec5",
   "metadata": {},
   "outputs": [],
   "source": []
  },
  {
   "cell_type": "code",
   "execution_count": null,
   "id": "dfe0335a",
   "metadata": {},
   "outputs": [],
   "source": []
  },
  {
   "cell_type": "code",
   "execution_count": null,
   "id": "132ca542",
   "metadata": {},
   "outputs": [],
   "source": []
  },
  {
   "cell_type": "code",
   "execution_count": null,
   "id": "4d317811",
   "metadata": {},
   "outputs": [],
   "source": []
  },
  {
   "cell_type": "code",
   "execution_count": null,
   "id": "e5c48fbc",
   "metadata": {},
   "outputs": [],
   "source": [
    "# "
   ]
  }
 ],
 "metadata": {
  "kernelspec": {
   "display_name": "Python 3 (ipykernel)",
   "language": "python",
   "name": "python3"
  },
  "language_info": {
   "codemirror_mode": {
    "name": "ipython",
    "version": 3
   },
   "file_extension": ".py",
   "mimetype": "text/x-python",
   "name": "python",
   "nbconvert_exporter": "python",
   "pygments_lexer": "ipython3",
   "version": "3.9.12"
  }
 },
 "nbformat": 4,
 "nbformat_minor": 5
}
